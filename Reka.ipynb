{
 "cells": [
  {
   "cell_type": "markdown",
   "metadata": {
    "slideshow": {
     "slide_type": "slide"
    }
   },
   "source": [
    "#  <span style=\"color:blue\">Introduction</span> \n",
    "\n",
    "\n",
    "\n",
    "## About CRIM\n",
    "\n",
    "CRIM (Computer Research Institute Montreal) is a government funded innovation and information technology research center which provides cutting edge technology solutions for various government and corporate stakeholders. \n",
    "\n",
    "CRIM has 3 main verticals:\n",
    "\n",
    "1. Analytics and Artificial Intelligence\n",
    "2. Human related technology\n",
    "3. Software science and technology\n",
    "\n",
    "\n",
    "I am currently working with the Natural Language Processing unit of the Analytics and Artificial Intelligence division on a capstone project.\n",
    "\n"
   ]
  },
  {
   "cell_type": "markdown",
   "metadata": {
    "slideshow": {
     "slide_type": "subslide"
    }
   },
   "source": [
    "## Project Motivation\n",
    "\n",
    "- One of the main deliverables of the NLP team at CRIM is curating and releasing databases and corpuses which are then used for linguistic research and software development.\n",
    "\n",
    "- One of the fundamental tools used for corpus exploration is a Concordancer, which in layman terms is a tool to explore the frequency and usage of a given query word in a corpus.\n",
    "\n",
    "![concordance_output](Images/nltk_concordance.png)"
   ]
  },
  {
   "cell_type": "markdown",
   "metadata": {
    "slideshow": {
     "slide_type": "slide"
    }
   },
   "source": [
    "\n",
    "## What is a concordancer ?\n",
    "\n",
    "A concordancer is a tool to explore the text in a corpus(i.e large dataset of text documents).\n",
    "A concordancer helps linguists and language learners get acquainted with multiple uses of words and phrases. \n",
    "\n",
    "\n",
    "\n",
    "For example a student learning english wants to know where he/she can use the word <span style = \"color:red\">\"WORN\"</span>\n",
    "\n",
    "A single word can be used in many different contexts. The word \"worn\" has 4 different meanings wrt to usage.\n",
    "\n",
    "![worn_dictionary](Images/worn_dictionary.png)\n",
    "\n"
   ]
  },
  {
   "cell_type": "markdown",
   "metadata": {
    "slideshow": {
     "slide_type": "subslide"
    }
   },
   "source": [
    "## Design Problem\n",
    "\n",
    "\n",
    "- The design challenge was to create a new version of a concordancer which can understand the meaning of the sentences it returns.\n",
    "\n",
    "- Once the concordancer has the ability to recognize the different meanings of sentences it can then select representative samples to highlight the different ways a single word has been used in the corpus.\n",
    "\n",
    "- This is done with the objective of providing targeted insight from a big data corpus."
   ]
  },
  {
   "cell_type": "markdown",
   "metadata": {
    "slideshow": {
     "slide_type": "subslide"
    }
   },
   "source": [
    "\n",
    "# <span style = \"color:blue\">DESIGN PLAN</span> \n",
    "\n",
    "![Process](Images/Process_breakdown.png)"
   ]
  },
  {
   "cell_type": "markdown",
   "metadata": {
    "slideshow": {
     "slide_type": "slide"
    }
   },
   "source": [
    "# <span style = \"color:green\">STAGE 1</span>\n",
    "\n",
    "## IDENTIFYING STRENGTHS AND WEAKNESSES OF CURRENT MARKET OFFERINGS"
   ]
  },
  {
   "cell_type": "markdown",
   "metadata": {
    "slideshow": {
     "slide_type": "subslide"
    }
   },
   "source": [
    "## The concordancers in use today simply return all sentences in a corpus that contain the search word.\n",
    "\n",
    "But we want to create a concordancing tool that can effectively show all the different ways a word can be used to convey different meanings in a sentence. \n",
    "\n",
    "We want our output, for search word like 'worn' to look like this:\n",
    "\n",
    "- Context 1. <span style = \"color:green\">\"I haven't worn my new dress yet.\"</span> \n",
    "\n",
    "- Context 2. <span style = \"color:red\">\"Breakfast had long since worn off and they were hungry.\"</span> \n",
    "\n",
    "- Context 3. <span style = \"color:blue\">\"The corner and edges are worn off and the wood is exposed.\"</span>\n",
    "\n",
    "- Context 4. <span style = \"color:black\">\"She was so worn out that she fell asleep at the table.\"</span>\n",
    "\n",
    "\n",
    "\n",
    "\n",
    "\n",
    "\n",
    "\n",
    "\n",
    "\n",
    "\n",
    "\n",
    "."
   ]
  },
  {
   "cell_type": "code",
   "execution_count": 3,
   "metadata": {},
   "outputs": [],
   "source": [
    "import nltk\n",
    "import numpy as np\n",
    "from nltk.text import Text  \n",
    "from  nltk.text import ConcordanceIndex\n",
    "import gensim \n",
    "from gensim.models import Word2Vec \n",
    "from gensim.test.utils import common_texts, get_tmpfile\n",
    "from collections import defaultdict\n",
    "from sklearn.cluster import MiniBatchKMeans\n",
    "from sklearn.decomposition import PCA\n",
    "from matplotlib import pyplot\n",
    "import math"
   ]
  },
  {
   "cell_type": "code",
   "execution_count": 4,
   "metadata": {},
   "outputs": [],
   "source": [
    "def concordance(ci, word, width=100, lines=100):\n",
    "    \"\"\"\n",
    "    Rewrite of nltk.text.ConcordanceIndex.print_concordance that returns results\n",
    "    instead of printing them. \n",
    "\n",
    "    See:\n",
    "    http://www.nltk.org/api/nltk.html#nltk.text.ConcordanceIndex.print_concordance\n",
    "    \"\"\"\n",
    "    half_width = (width - len(word) - 2) // 2\n",
    "    context = width // 4 # approx number of words of context\n",
    "\n",
    "    results = []\n",
    "    offsets = ci.offsets(word)\n",
    "    if offsets:\n",
    "        lines = min(lines, len(offsets))\n",
    "        for i in offsets:\n",
    "            if lines <= 0:\n",
    "                break\n",
    "            left = (' ' * half_width +\n",
    "                    ' '.join(ci._tokens[i-context:i]))\n",
    "            right = ' '.join(ci._tokens[i+1:i+context])\n",
    "            left = left[-half_width:]\n",
    "            right = right[:half_width]\n",
    "            results.append('%s %s %s' % (left, ci._tokens[i], right))\n",
    "            lines -= 1\n",
    "\n",
    "    return results"
   ]
  },
  {
   "cell_type": "markdown",
   "metadata": {
    "slideshow": {
     "slide_type": "slide"
    }
   },
   "source": [
    "## Let's take a look at what a traditional concordance output would look like"
   ]
  },
  {
   "cell_type": "code",
   "execution_count": 5,
   "metadata": {
    "slideshow": {
     "slide_type": "subslide"
    }
   },
   "outputs": [],
   "source": [
    "# query word = \"feature\"\n",
    "\n",
    "\n",
    "textList = Text(nltk.corpus.gutenberg.words('/home/komal/nltk_data/corpora/qc/train.txt'))\n",
    "\n",
    "ci = ConcordanceIndex(textList.tokens)\n",
    "results = concordance(ci, 'feature')\n"
   ]
  },
  {
   "cell_type": "code",
   "execution_count": 6,
   "metadata": {},
   "outputs": [
    {
     "data": {
      "text/plain": [
       "['ingspan of a condor ? DESC : desc What facial feature typically contains about 55 hairs ? HUM : ind',\n",
       " 'an hand ? HUM : gr What bread company used to feature stickers of the Cisco Kid on the ends of thei',\n",
       " \" fireplug come from ? DESC : desc What facial feature did Walt Disney sport that none of Disney ' s\",\n",
       " \"ca and Asia ? ENTY : sport What card game can feature dealer ' s choice ? NUM : count How many Amer\"]"
      ]
     },
     "execution_count": 6,
     "metadata": {},
     "output_type": "execute_result"
    }
   ],
   "source": [
    "results"
   ]
  },
  {
   "cell_type": "code",
   "execution_count": 154,
   "metadata": {},
   "outputs": [],
   "source": [
    "feature_results = []\n",
    "for sent in results:\n",
    "    feature_results.append(nltk.word_tokenize(sent))"
   ]
  },
  {
   "cell_type": "code",
   "execution_count": 178,
   "metadata": {},
   "outputs": [],
   "source": [
    "def extract_left_right_context(concordance_results, query_word, no_of_words):\n",
    "    \"Given the tokenized sentences of a concordance result, preprocesses each sentence so that they have equal length\"\n",
    "    new_concordance = []\n",
    "    for sent in concordance_results:\n",
    "        for index in range(len(sent)):\n",
    "            if sent[index] == query_word:\n",
    "                query_position = index\n",
    "                left_context = sent[index - no_of_words : index]\n",
    "                right_context = sent[index +1 : index + 1 + no_of_words]\n",
    "                total_context = right_context + left_context\n",
    "                new_concordance.append(total_context)\n",
    "    return new_concordance\n",
    "feature_conc = extract_left_right_context(feature_results, query_word = 'feature', no_of_words = 7)\n",
    "                "
   ]
  },
  {
   "cell_type": "markdown",
   "metadata": {
    "slideshow": {
     "slide_type": "slide"
    }
   },
   "source": [
    "## Here we see that the query word \"hand\" has been used in many different contexts."
   ]
  },
  {
   "cell_type": "code",
   "execution_count": 130,
   "metadata": {
    "slideshow": {
     "slide_type": "subslide"
    }
   },
   "outputs": [
    {
     "data": {
      "text/plain": [
       "['LOC : other Where did Sarge Steel get his metal hand ? DESC : reason What makes popcorn pop ? HUM : ',\n",
       " 'ialect ? ENTY : termeq What do you call a Poker hand with five cards of the same suit ? HUM : ind Wh',\n",
       " 'ther What five cards make up a perfect Cribbage hand ? NUM : date In what year was Gandhi assassinat',\n",
       " 'M : count How many bones are there in the human hand ? HUM : gr What bread company used to feature s',\n",
       " \" the vagina ? ENTY : other What ' s the highest hand in straight poker ? LOC : other Where can I fin\",\n",
       " 's ? NUM : count How many bones are in the human hand ? NUM : count How many chemical elements are th',\n",
       " ': ind What English queen had six fingers on one hand ? LOC : other What river runs through Liverpool']"
      ]
     },
     "execution_count": 130,
     "metadata": {},
     "output_type": "execute_result"
    }
   ],
   "source": [
    "# query word = \"hand\"\n",
    "\n",
    "textList = Text(nltk.corpus.gutenberg.words('/home/komal/nltk_data/corpora/qc/train.txt'))\n",
    "\n",
    "ci = ConcordanceIndex(textList.tokens)\n",
    "hand_results = concordance(ci, 'hand')\n",
    "\n",
    "hand_results"
   ]
  },
  {
   "cell_type": "markdown",
   "metadata": {
    "slideshow": {
     "slide_type": "slide"
    }
   },
   "source": [
    "## Here the query word \"wear\" has been repeated multiple times but each sample uses the same context."
   ]
  },
  {
   "cell_type": "code",
   "execution_count": 135,
   "metadata": {
    "slideshow": {
     "slide_type": "subslide"
    }
   },
   "outputs": [
    {
     "data": {
      "text/plain": [
       "[' ? ENTY : other What does the Statue of Liberty wear on her feet ? HUM : ind Who is the superstar in',\n",
       " 'HUM : ind Who was the only U . S . President to wear a Nazi uniform ? HUM : gr Woodrow Wilson served',\n",
       " 'Y : product What kind of hat does Bat Masterson wear ? HUM : ind Who was with Patricia Hearst the ni',\n",
       " 'signer decided that Michael Jackson should only wear one glove ? ENTY : other What meter did Shakesp',\n",
       " 'TY : product What kind of suit did true hepcats wear in 1942 ? LOC : other Where does Mother Angelic',\n",
       " \"e ? HUM : ind Who was the second person ever to wear Iron Man ' s armor ? DESC : def What is InterLa\",\n",
       " ' Rhodes scholar ? ENTY : other What did Warlock wear on his forehead in Marvel comics ? ENTY : body ',\n",
       " 'Jenna mean ? DESC : reason Why do girls have to wear training bras ? NUM : date When was the first s']"
      ]
     },
     "execution_count": 135,
     "metadata": {},
     "output_type": "execute_result"
    }
   ],
   "source": [
    "# query_word = \"wear\"\n",
    "\n",
    "textList = Text(nltk.corpus.gutenberg.words('/home/komal/nltk_data/corpora/qc/train.txt'))\n",
    "\n",
    "ci = ConcordanceIndex(textList.tokens)\n",
    "wear_results = concordance(ci, 'wear')\n",
    "\n",
    "wear_results\n"
   ]
  },
  {
   "cell_type": "markdown",
   "metadata": {
    "slideshow": {
     "slide_type": "slide"
    }
   },
   "source": [
    "# <span style = \"color:green\">STAGE 2</span>\n",
    "\n",
    "## TECHNICAL IMPLEMENTATION"
   ]
  },
  {
   "cell_type": "markdown",
   "metadata": {
    "slideshow": {
     "slide_type": "subslide"
    }
   },
   "source": [
    "# Extracting meaning from sentences using \"Word2Vec\""
   ]
  },
  {
   "cell_type": "markdown",
   "metadata": {
    "slideshow": {
     "slide_type": "subslide"
    }
   },
   "source": [
    "## what is word2vec ?\n",
    "\n",
    "convert words into vectors and find the distance between words to infer similarity or dissimilarity.\n",
    "\n",
    "![word2vec](Images/word2vec.png)"
   ]
  },
  {
   "cell_type": "code",
   "execution_count": 179,
   "metadata": {},
   "outputs": [],
   "source": [
    "feature_vec_model = gensim.models.Word2Vec(feature_conc, min_count = 1,  \n",
    "                              size = 50, window = 5) "
   ]
  },
  {
   "cell_type": "markdown",
   "metadata": {
    "slideshow": {
     "slide_type": "slide"
    }
   },
   "source": [
    "## -  Each individual word is converted into a 50 dimension vector.\n",
    "\n",
    "## -  Sentences are just a collection of these individual vectors"
   ]
  },
  {
   "cell_type": "code",
   "execution_count": 181,
   "metadata": {
    "slideshow": {
     "slide_type": "subslide"
    }
   },
   "outputs": [
    {
     "data": {
      "text/plain": [
       "{'typically': <gensim.models.keyedvectors.Vocab at 0x7f8066f3bdd8>,\n",
       " 'contains': <gensim.models.keyedvectors.Vocab at 0x7f80521a1240>,\n",
       " 'about': <gensim.models.keyedvectors.Vocab at 0x7f80521a1048>,\n",
       " '55': <gensim.models.keyedvectors.Vocab at 0x7f80521a12b0>,\n",
       " 'hairs': <gensim.models.keyedvectors.Vocab at 0x7f80521a10b8>,\n",
       " '?': <gensim.models.keyedvectors.Vocab at 0x7f80521a1be0>,\n",
       " 'HUM': <gensim.models.keyedvectors.Vocab at 0x7f80521a1f98>,\n",
       " 'condor': <gensim.models.keyedvectors.Vocab at 0x7f80521a1a20>,\n",
       " 'DESC': <gensim.models.keyedvectors.Vocab at 0x7f80521a12e8>,\n",
       " ':': <gensim.models.keyedvectors.Vocab at 0x7f80521a1f60>,\n",
       " 'desc': <gensim.models.keyedvectors.Vocab at 0x7f80521a1c88>,\n",
       " 'What': <gensim.models.keyedvectors.Vocab at 0x7f80521a1d68>,\n",
       " 'facial': <gensim.models.keyedvectors.Vocab at 0x7f80521a16a0>,\n",
       " 'stickers': <gensim.models.keyedvectors.Vocab at 0x7f8051f9a1d0>,\n",
       " 'of': <gensim.models.keyedvectors.Vocab at 0x7f8051f9a160>,\n",
       " 'the': <gensim.models.keyedvectors.Vocab at 0x7f8051f9a048>,\n",
       " 'Cisco': <gensim.models.keyedvectors.Vocab at 0x7f8051f9a0b8>,\n",
       " 'Kid': <gensim.models.keyedvectors.Vocab at 0x7f8051f9a208>,\n",
       " 'on': <gensim.models.keyedvectors.Vocab at 0x7f8051f9a128>,\n",
       " 'gr': <gensim.models.keyedvectors.Vocab at 0x7f80521314e0>,\n",
       " 'bread': <gensim.models.keyedvectors.Vocab at 0x7f8052131438>,\n",
       " 'company': <gensim.models.keyedvectors.Vocab at 0x7f8052131080>,\n",
       " 'used': <gensim.models.keyedvectors.Vocab at 0x7f8052131470>,\n",
       " 'to': <gensim.models.keyedvectors.Vocab at 0x7f8052131358>,\n",
       " 'did': <gensim.models.keyedvectors.Vocab at 0x7f80521314a8>,\n",
       " 'Walt': <gensim.models.keyedvectors.Vocab at 0x7f8052131240>,\n",
       " 'Disney': <gensim.models.keyedvectors.Vocab at 0x7f8051f803c8>,\n",
       " 'sport': <gensim.models.keyedvectors.Vocab at 0x7f8051f801d0>,\n",
       " 'that': <gensim.models.keyedvectors.Vocab at 0x7f8051f80160>,\n",
       " 'none': <gensim.models.keyedvectors.Vocab at 0x7f8051f802e8>,\n",
       " 'from': <gensim.models.keyedvectors.Vocab at 0x7f8051f80390>,\n",
       " 'dealer': <gensim.models.keyedvectors.Vocab at 0x7f8051f80240>,\n",
       " \"'\": <gensim.models.keyedvectors.Vocab at 0x7f8051f80080>,\n",
       " 's': <gensim.models.keyedvectors.Vocab at 0x7f8051f80400>,\n",
       " 'choice': <gensim.models.keyedvectors.Vocab at 0x7f8051f800f0>,\n",
       " 'NUM': <gensim.models.keyedvectors.Vocab at 0x7f8051f80438>,\n",
       " 'ENTY': <gensim.models.keyedvectors.Vocab at 0x7f8051f80358>,\n",
       " 'card': <gensim.models.keyedvectors.Vocab at 0x7f8051f80128>,\n",
       " 'game': <gensim.models.keyedvectors.Vocab at 0x7f8051f80278>,\n",
       " 'can': <gensim.models.keyedvectors.Vocab at 0x7f8051f80208>}"
      ]
     },
     "execution_count": 181,
     "metadata": {},
     "output_type": "execute_result"
    }
   ],
   "source": [
    "feature_vec_model.wv.vocab"
   ]
  },
  {
   "cell_type": "markdown",
   "metadata": {
    "slideshow": {
     "slide_type": "slide"
    }
   },
   "source": [
    "## Visualizing the newly created vector space"
   ]
  },
  {
   "cell_type": "code",
   "execution_count": 182,
   "metadata": {
    "slideshow": {
     "slide_type": "subslide"
    }
   },
   "outputs": [
    {
     "name": "stderr",
     "output_type": "stream",
     "text": [
      "/home/komal/.local/lib/python3.6/site-packages/ipykernel_launcher.py:3: DeprecationWarning: Call to deprecated `__getitem__` (Method will be removed in 4.0.0, use self.wv.__getitem__() instead).\n",
      "  This is separate from the ipykernel package so we can avoid doing imports until\n"
     ]
    },
    {
     "data": {
      "image/png": "[encoded data removed]",
      "text/plain": [
       "<Figure size 432x288 with 1 Axes>"
      ]
     },
     "metadata": {
      "needs_background": "light"
     },
     "output_type": "display_data"
    },
    {
     "data": {
      "text/plain": [
       "<Figure size 3600x3600 with 0 Axes>"
      ]
     },
     "metadata": {},
     "output_type": "display_data"
    }
   ],
   "source": [
    "\n",
    "X = feature_vec_model[feature_vec_model.wv.vocab]\n",
    "pca = PCA(n_components=2)\n",
    "result = pca.fit_transform(X)\n",
    "# create a scatter plot of the projection\n",
    "pyplot.scatter(result[:, 0], result[:, 1])\n",
    "words = list(feature_vec_model.wv.vocab)\n",
    "for i, word in enumerate(words):\n",
    "    pyplot.annotate(word, xy=(result[i, 0], result[i, 1]))\n",
    "pyplot.figure(figsize=(50, 50))\n",
    "pyplot.show()"
   ]
  },
  {
   "cell_type": "code",
   "execution_count": 192,
   "metadata": {},
   "outputs": [
    {
     "name": "stderr",
     "output_type": "stream",
     "text": [
      "/home/komal/.local/lib/python3.6/site-packages/ipykernel_launcher.py:7: DeprecationWarning: Call to deprecated `__getitem__` (Method will be removed in 4.0.0, use self.wv.__getitem__() instead).\n",
      "  import sys\n"
     ]
    }
   ],
   "source": [
    "vector_list = []\n",
    "sent_vect_lookup = []\n",
    "for sent in feature_conc:\n",
    "    sent_vect_list = []\n",
    "    for word in sent:\n",
    "        if word in feature_vec_model.wv.vocab:\n",
    "            sent_vect_list.append(feature_vec_model[word])\n",
    "        else:\n",
    "            sent_vect_list.append(np.zeros(50))\n",
    "    sent_vect = np.concatenate([word_v for word_v in sent_vect_list])\n",
    "    vector_list.append(sent_vect)\n",
    "    sent_vect_lookup.append((sent, sent_vect))\n",
    "            "
   ]
  },
  {
   "cell_type": "code",
   "execution_count": 190,
   "metadata": {
    "scrolled": true
   },
   "outputs": [
    {
     "data": {
      "text/plain": [
       "[(['typically',\n",
       "   'contains',\n",
       "   'about',\n",
       "   '55',\n",
       "   'hairs',\n",
       "   '?',\n",
       "   'HUM',\n",
       "   'condor',\n",
       "   '?',\n",
       "   'DESC',\n",
       "   ':',\n",
       "   'desc',\n",
       "   'What',\n",
       "   'facial'],\n",
       "  array([-8.10413621e-03,  2.81296729e-04, -2.33339355e-03,  7.46385055e-03,\n",
       "         -1.79263542e-03, -9.81504284e-03, -2.47659185e-03, -3.52056930e-03,\n",
       "         -3.80113139e-03, -9.30464547e-03,  7.35443842e-04, -5.57887834e-03,\n",
       "         -2.99578835e-03, -5.21260453e-03, -8.81474651e-03, -7.50114070e-03,\n",
       "          2.61570630e-03, -4.92906023e-04, -2.77333031e-03,  6.15435047e-03,\n",
       "          9.02354345e-03,  3.43264709e-03,  6.30557444e-03, -8.55762511e-03,\n",
       "         -4.95209964e-03,  1.49255828e-03,  8.38183332e-03, -9.71223600e-03,\n",
       "          5.77930768e-04,  7.12594576e-03,  4.17432794e-03,  2.31429166e-03,\n",
       "         -5.56962471e-03,  3.89373000e-03, -1.55426166e-03,  1.61743991e-03,\n",
       "          3.78510961e-03, -5.63463708e-03,  4.12717462e-03,  9.70366504e-03,\n",
       "          1.57830931e-04, -7.47357262e-03, -7.36970280e-04, -3.03418888e-03,\n",
       "          1.22223899e-03,  1.42499257e-03, -2.29505799e-03, -4.74668434e-03,\n",
       "         -5.65406866e-03, -7.43996631e-03,  8.46984889e-03,  8.61174334e-03,\n",
       "         -2.50405353e-03, -4.41113859e-03, -6.34332653e-03, -3.26131238e-03,\n",
       "         -5.12173446e-03,  7.56705925e-03, -5.16268285e-03, -9.53696296e-03,\n",
       "          6.71277149e-03,  8.50713719e-03,  1.10739772e-03, -1.21206860e-03,\n",
       "         -3.09893047e-03, -8.41056835e-03,  8.33318569e-03,  7.25483429e-03,\n",
       "         -5.29717561e-03, -4.03580954e-03,  8.35955329e-03,  6.42711413e-04,\n",
       "         -3.90397711e-03,  2.29860796e-03, -4.16114274e-03, -9.28780530e-03,\n",
       "          3.49146849e-03, -2.83809868e-03,  4.85932501e-03,  5.62916463e-03,\n",
       "         -6.34961156e-03, -1.66657043e-03, -6.13538409e-03,  4.71368991e-03,\n",
       "         -6.99123554e-03, -6.15405198e-03,  9.13821813e-03, -9.64091625e-03,\n",
       "          9.89860296e-03, -3.49250203e-03, -5.04415575e-03, -5.53014269e-03,\n",
       "         -7.26053445e-03, -7.56545132e-03, -4.65893466e-03,  4.45637060e-03,\n",
       "         -6.27263589e-03, -1.18780800e-03,  4.27800696e-03, -2.01071077e-03,\n",
       "          1.22904521e-03, -6.78004278e-03, -9.87152755e-03, -3.66192684e-03,\n",
       "          7.64121581e-03, -3.02289473e-03, -1.21686244e-04, -3.13320081e-03,\n",
       "          8.84879380e-03, -6.18146826e-03,  6.67767832e-03, -3.72912223e-03,\n",
       "         -9.25298966e-03, -7.79782934e-03, -4.90032509e-03,  6.05243840e-05,\n",
       "          2.10492988e-03, -7.07701966e-03,  3.69728706e-03, -6.19627396e-03,\n",
       "         -8.74197483e-03,  4.68076253e-03,  9.20092687e-03, -8.89334828e-04,\n",
       "          4.77764150e-03, -7.63303926e-03, -5.93728712e-03, -6.11985428e-03,\n",
       "         -7.04645831e-03, -3.83580453e-03, -4.70015360e-03, -5.71282399e-05,\n",
       "          1.67510865e-04,  9.62223019e-03, -2.14389805e-03, -5.79364016e-04,\n",
       "         -3.23829311e-03,  1.12958765e-03, -8.70801881e-03, -3.37003241e-03,\n",
       "         -6.04017871e-03, -4.64050192e-03,  3.29428934e-03, -3.32854083e-03,\n",
       "          6.08438440e-03, -3.45069473e-03,  4.43183910e-03,  4.16201307e-03,\n",
       "         -3.67797009e-04,  1.64971850e-03, -5.28341532e-03,  2.35473970e-03,\n",
       "          3.10957828e-03,  9.69320722e-03, -8.10678862e-03,  9.30769648e-03,\n",
       "         -3.08812479e-03, -8.11000168e-03,  3.69832176e-03,  5.77418273e-03,\n",
       "         -2.97947228e-03, -9.25000664e-03, -9.41293035e-03,  5.79995848e-03,\n",
       "         -8.65530130e-03,  6.10967260e-03,  5.35464892e-03, -9.16485488e-03,\n",
       "         -3.84563697e-03,  2.53064837e-03,  8.82592693e-04,  6.39507128e-03,\n",
       "         -4.07386618e-03,  4.37143212e-03, -4.01531206e-03, -4.92361980e-03,\n",
       "         -5.85267553e-03, -6.95667509e-03, -4.47344873e-03,  3.88033828e-03,\n",
       "          4.86127520e-03, -6.72549242e-04, -3.52882920e-03,  7.55913043e-03,\n",
       "          9.41552874e-03,  3.69203789e-03,  1.87522895e-03, -1.73483917e-04,\n",
       "          3.65054887e-03,  9.21815692e-04,  9.42316023e-04,  9.02065635e-03,\n",
       "          3.58731532e-03,  2.38637649e-03,  1.50087450e-04, -3.06907087e-03,\n",
       "         -1.45431841e-03,  2.27829465e-03,  6.81454781e-03,  9.26693063e-03,\n",
       "          9.28134192e-03,  9.19300888e-04, -1.07071968e-03, -1.52688625e-03,\n",
       "          3.59024038e-03,  1.16804929e-03,  7.19988951e-03,  6.10817224e-03,\n",
       "          7.47638755e-03, -2.28239759e-03, -6.78070763e-04,  7.09282642e-04,\n",
       "          2.65918276e-03,  7.85234850e-03, -3.28574155e-04, -5.87667292e-03,\n",
       "         -9.93683236e-04, -8.63289461e-03, -8.92438740e-03,  3.60829290e-03,\n",
       "         -7.84085318e-03, -4.62528225e-03,  6.71517197e-03, -2.07571662e-03,\n",
       "         -5.16736414e-03,  6.31698000e-04, -9.26330779e-03, -9.12868138e-03,\n",
       "         -5.02984412e-03,  6.22876250e-05,  6.06544595e-03,  6.24401076e-03,\n",
       "          6.57494506e-03, -9.68165882e-03,  8.72852094e-03, -6.66262070e-03,\n",
       "          3.91156180e-03, -4.81185503e-03,  3.15878261e-03,  8.49663094e-03,\n",
       "          9.79116373e-03, -1.30068790e-03,  7.56286085e-03, -9.10229795e-03,\n",
       "         -5.94777660e-03,  4.86342283e-03, -4.02224483e-03,  9.65958182e-03,\n",
       "         -4.89525497e-03, -9.03936662e-03, -2.74648680e-03, -8.59511085e-03,\n",
       "          4.47315210e-03,  5.81212668e-03, -8.74817371e-03, -4.49636346e-03,\n",
       "          6.30215136e-03, -4.79705073e-03,  9.75592341e-03, -8.66141822e-03,\n",
       "          5.02610393e-03,  7.50168180e-03, -9.81241371e-03, -4.44232806e-04,\n",
       "          7.18611584e-04, -6.97623566e-03, -5.98137127e-03, -4.61449521e-03,\n",
       "         -2.91957916e-03, -3.28784040e-03, -9.09977499e-03, -1.22996897e-03,\n",
       "          7.34875957e-03, -1.04712637e-03,  9.26515646e-03, -6.34503923e-03,\n",
       "          6.53279852e-03,  9.80089768e-04, -9.07455198e-03,  1.83435157e-04,\n",
       "         -3.81396664e-03,  1.09821011e-03, -4.72982600e-03, -3.31072533e-03,\n",
       "          4.28451179e-03,  4.73062275e-04,  8.46769568e-03, -7.41502317e-03,\n",
       "         -6.90837670e-03, -2.29154830e-03, -7.20739877e-03, -2.15567648e-03,\n",
       "         -3.65893729e-03,  9.66441073e-03,  2.53739674e-03,  2.42451741e-03,\n",
       "          6.10486977e-03,  6.81431207e-04, -9.54387244e-03,  4.17079311e-03,\n",
       "          4.91512567e-03, -4.96487337e-05,  5.61367022e-03, -6.75480394e-03,\n",
       "          9.55048203e-03,  3.32281669e-03, -7.05441972e-03,  8.32581054e-03,\n",
       "          8.53467453e-03,  8.41774885e-03,  6.34615310e-03, -7.14073051e-03,\n",
       "          7.16420962e-03,  9.08936840e-03,  8.41770228e-03, -2.48027523e-03,\n",
       "          5.15650772e-03,  4.82340390e-03,  7.87197892e-03, -8.91451817e-03,\n",
       "          4.21976391e-03,  6.85034506e-03,  4.44022520e-03, -5.20131225e-03,\n",
       "         -4.77059139e-03, -5.17896563e-03,  4.58830642e-03, -7.19627179e-03,\n",
       "          5.49317803e-03, -3.60337109e-03,  3.58974561e-03, -8.85175448e-03,\n",
       "          7.88619835e-03,  5.91107039e-03, -4.40923776e-03,  1.58946402e-03,\n",
       "         -4.80953779e-04,  2.10211566e-03,  8.69874749e-03,  1.57824520e-03,\n",
       "         -5.89031377e-04,  9.57501214e-03,  4.50782897e-03, -7.22616399e-03,\n",
       "         -1.19868014e-03,  7.14066857e-03,  9.63039044e-03, -8.06304440e-03,\n",
       "          2.69207475e-03, -5.98441344e-04,  7.74438353e-03,  4.80975676e-03,\n",
       "         -4.94174333e-03,  3.48473387e-03, -5.07017085e-03, -7.85678159e-03,\n",
       "          4.71632084e-04, -7.89952651e-03, -1.12531497e-03,  4.48259898e-03,\n",
       "          6.03405200e-03,  2.48609716e-03,  9.06149950e-03, -8.77465308e-03,\n",
       "          2.37224041e-03,  7.57471938e-03,  4.03886614e-03,  8.92851595e-03,\n",
       "          3.51150939e-03, -1.21455838e-03, -9.65699728e-04, -4.79340879e-03,\n",
       "         -3.97196179e-03,  1.03419891e-03, -6.71619317e-03, -6.22646743e-03,\n",
       "          2.49109045e-03,  5.55807492e-03,  2.26704637e-03, -7.70799583e-03,\n",
       "         -8.82347114e-03,  1.68545928e-04,  3.53258313e-03,  3.27560003e-03,\n",
       "          9.90791433e-03, -3.13875778e-03, -2.06499663e-03, -6.99049002e-03,\n",
       "         -9.31787398e-03, -8.69281776e-03,  7.10044475e-03,  6.21286361e-03,\n",
       "          6.53408060e-04, -3.82601027e-03, -3.18393717e-03, -5.79956919e-03,\n",
       "         -4.06901259e-03, -9.96277295e-03, -8.43232218e-03, -9.89016052e-03,\n",
       "         -2.74648680e-03, -8.59511085e-03,  4.47315210e-03,  5.81212668e-03,\n",
       "         -8.74817371e-03, -4.49636346e-03,  6.30215136e-03, -4.79705073e-03,\n",
       "          9.75592341e-03, -8.66141822e-03,  5.02610393e-03,  7.50168180e-03,\n",
       "         -9.81241371e-03, -4.44232806e-04,  7.18611584e-04, -6.97623566e-03,\n",
       "         -5.98137127e-03, -4.61449521e-03, -2.91957916e-03, -3.28784040e-03,\n",
       "         -9.09977499e-03, -1.22996897e-03,  7.34875957e-03, -1.04712637e-03,\n",
       "          9.26515646e-03, -6.34503923e-03,  6.53279852e-03,  9.80089768e-04,\n",
       "         -9.07455198e-03,  1.83435157e-04, -3.81396664e-03,  1.09821011e-03,\n",
       "         -4.72982600e-03, -3.31072533e-03,  4.28451179e-03,  4.73062275e-04,\n",
       "          8.46769568e-03, -7.41502317e-03, -6.90837670e-03, -2.29154830e-03,\n",
       "         -7.20739877e-03, -2.15567648e-03, -3.65893729e-03,  9.66441073e-03,\n",
       "          2.53739674e-03,  2.42451741e-03,  6.10486977e-03,  6.81431207e-04,\n",
       "         -9.54387244e-03,  4.17079311e-03,  6.57533063e-03,  5.95147861e-03,\n",
       "          1.65000616e-03, -5.33574633e-03,  6.13758480e-03, -3.26791708e-03,\n",
       "         -5.48487622e-03,  3.58304870e-03,  8.49659275e-03,  1.58149027e-03,\n",
       "          9.13409702e-03,  1.80623261e-03,  7.53530813e-03, -1.42084423e-03,\n",
       "          7.86312856e-03, -9.70575679e-03, -8.42585042e-03, -1.97647722e-03,\n",
       "         -5.22050913e-03, -6.60109660e-03, -5.11343451e-03,  5.76770911e-03,\n",
       "         -3.39828641e-03,  8.92494246e-03, -5.14677633e-03, -8.70865863e-03,\n",
       "         -7.35012349e-03,  7.25558726e-03,  5.08529274e-03, -9.51731298e-03,\n",
       "         -5.79020940e-03, -9.51777119e-03, -6.52375538e-03, -4.69780248e-03,\n",
       "         -2.99516716e-03, -4.14732471e-03,  9.99307632e-03, -1.36888272e-03,\n",
       "          9.78758000e-03,  7.80923525e-03, -3.42296762e-03, -1.14357681e-03,\n",
       "         -9.07042250e-03,  5.72728785e-03,  2.26401235e-03, -1.67378422e-03,\n",
       "          2.96949293e-03,  8.71593584e-05,  5.32840053e-03, -5.98083576e-03,\n",
       "          5.58063900e-03,  7.01026525e-03, -2.87180999e-03,  9.80733056e-03,\n",
       "         -8.95133801e-03,  6.30756421e-03, -6.67273672e-03, -1.16604648e-03,\n",
       "         -4.42502263e-04,  1.84928329e-04, -3.72864702e-03,  3.00017942e-04,\n",
       "         -7.52974069e-03,  8.36513285e-03, -8.09590891e-03,  2.85150670e-03,\n",
       "          7.91289285e-03,  4.31624288e-03, -9.20415390e-03,  2.43546674e-03,\n",
       "         -4.45969123e-03,  4.44301032e-03,  1.13189348e-03,  7.99012929e-03,\n",
       "          6.11761957e-03, -8.57527461e-03, -2.58254679e-03,  4.47122054e-03,\n",
       "         -4.22666874e-03,  9.03447066e-03,  2.31782231e-03,  4.73532826e-03,\n",
       "          2.39950116e-03, -2.45834794e-03, -3.76998261e-03, -3.14829987e-03,\n",
       "          8.43662675e-03,  1.87037187e-03, -5.31408424e-03,  7.98008312e-03,\n",
       "          9.43435822e-03,  1.80062687e-03, -4.43203328e-03,  1.49198552e-03,\n",
       "          1.18859985e-03, -1.77476832e-04, -3.11650056e-03, -3.80187668e-03,\n",
       "         -5.43936249e-03,  8.27994477e-03, -5.03164157e-03, -6.90666959e-03,\n",
       "         -2.62756716e-03,  2.60078092e-03, -2.92056287e-03, -8.75927228e-03,\n",
       "         -5.67957712e-03, -1.02495519e-03, -7.11145857e-03, -1.63732679e-03,\n",
       "         -4.38713981e-03,  4.39707097e-03,  5.73412457e-04,  1.43521116e-03,\n",
       "          1.25951681e-03,  2.03126739e-03,  4.03238880e-03,  1.01842312e-03,\n",
       "          5.89498505e-03, -8.70824326e-03,  9.39871464e-03, -8.84161424e-03,\n",
       "          6.93439832e-03, -7.16256164e-03,  3.75650241e-03, -7.57635164e-04,\n",
       "          8.84320325e-05, -8.49929266e-03, -8.05310626e-03, -8.32349714e-03,\n",
       "          2.55993148e-03, -1.32820930e-03,  7.00548943e-03, -5.67799155e-03,\n",
       "         -2.43070666e-04, -1.13998074e-03, -1.79645082e-03,  5.65131754e-03,\n",
       "         -3.73186730e-03, -5.78206498e-04,  3.25564668e-03, -1.36042770e-03,\n",
       "         -8.95761978e-03, -7.60113029e-03,  4.92177578e-03,  4.03781980e-03,\n",
       "          1.90861919e-03,  3.07061826e-03,  3.55218421e-03,  7.10652443e-03,\n",
       "         -1.38051610e-03,  8.94427020e-03,  6.35724980e-04, -1.95702328e-03,\n",
       "          2.85970489e-03, -5.59569476e-03,  7.17151817e-03,  7.19268527e-03,\n",
       "          3.87046370e-03, -6.85945200e-03,  8.08517169e-03,  8.98100529e-03,\n",
       "          6.96538715e-04,  6.03169948e-03, -1.60950283e-03,  6.17077667e-03,\n",
       "          1.58185873e-03, -9.89827607e-03, -7.97169097e-03, -8.46020970e-03,\n",
       "          1.73711043e-03,  3.73038300e-03, -7.40432320e-03,  3.78538063e-03,\n",
       "          1.54117483e-03,  9.55046248e-03, -3.65871005e-04,  5.55778574e-03,\n",
       "         -4.74997191e-03, -9.82333161e-03, -1.11435552e-03,  2.42462917e-03,\n",
       "          9.39862989e-03, -9.86004435e-03, -7.77771091e-03, -6.37603877e-03,\n",
       "         -5.76416403e-03,  4.79286723e-03,  6.34262245e-03, -7.62747880e-03,\n",
       "          1.57765287e-03, -7.06089288e-03,  1.00055393e-02,  1.66307704e-03,\n",
       "          7.78622041e-03,  1.15491229e-03, -1.47974599e-04,  6.20096503e-03,\n",
       "          5.95972454e-03,  6.22393424e-03, -9.07129515e-03,  2.25925073e-03,\n",
       "          5.52541250e-03, -3.75887053e-03,  4.62399516e-03,  3.41071305e-03,\n",
       "          5.15871448e-03, -7.71356747e-04,  9.64049995e-03,  8.48571025e-03,\n",
       "         -7.36597367e-03,  8.04947224e-03,  3.70951975e-03,  2.97273300e-03,\n",
       "          8.91335774e-03,  9.89686139e-03, -3.56165017e-03,  2.16022041e-03,\n",
       "         -7.81732984e-03, -7.20214285e-03, -8.05796683e-03,  7.75012840e-03,\n",
       "          2.47515878e-03,  4.83320653e-03, -3.07685952e-03,  4.91249422e-03,\n",
       "          1.02319999e-03,  2.74044718e-03,  8.91121512e-04, -4.04749112e-03,\n",
       "          9.21754353e-03, -6.05528848e-03,  8.81958846e-03,  7.97019340e-03,\n",
       "         -3.55329248e-03,  9.35376249e-03,  3.74418078e-03,  6.86425343e-03,\n",
       "         -6.02304004e-03, -8.81320145e-03,  4.34636837e-03, -6.35097502e-03,\n",
       "          9.26563982e-03, -8.86258017e-03,  7.45593430e-03,  2.23528524e-03,\n",
       "         -7.25465314e-03,  4.91222879e-03,  9.89921950e-03,  6.21454930e-03],\n",
       "        dtype=float32)),\n",
       " (['stickers',\n",
       "   'of',\n",
       "   'the',\n",
       "   'Cisco',\n",
       "   'Kid',\n",
       "   'on',\n",
       "   'the',\n",
       "   ':',\n",
       "   'gr',\n",
       "   'What',\n",
       "   'bread',\n",
       "   'company',\n",
       "   'used',\n",
       "   'to'],\n",
       "  array([ 6.63064793e-03,  4.31383215e-03,  5.71671594e-03, -8.14016163e-03,\n",
       "         -5.56269893e-03, -9.14104283e-03,  4.22970951e-03,  4.05064272e-03,\n",
       "          4.34546592e-03,  3.13358405e-03, -9.33559705e-03, -8.18002596e-03,\n",
       "         -2.00919830e-03,  5.63576026e-03,  6.99180528e-04, -7.49831693e-03,\n",
       "          7.35553866e-03, -2.27211436e-04, -1.61757623e-03, -5.02281822e-03,\n",
       "         -2.41499231e-03,  8.32393207e-03, -2.01819537e-04, -7.20817875e-03,\n",
       "          3.35458107e-03,  1.85928645e-03, -9.10314266e-03, -3.58415674e-03,\n",
       "         -8.34811665e-03, -2.01421717e-04, -9.65151878e-04, -4.69394354e-03,\n",
       "          6.90970058e-03, -7.92754441e-03, -2.63976259e-03,  6.19931961e-04,\n",
       "         -1.44385581e-03,  9.31325601e-04, -4.19263123e-03, -1.36169384e-03,\n",
       "          9.00817011e-03, -9.47870500e-03, -1.03806342e-04, -3.50029586e-04,\n",
       "          7.68272253e-03,  1.03809719e-03, -1.23072718e-03,  6.97997119e-03,\n",
       "         -7.88051169e-03,  8.29664897e-03, -7.16286665e-03,  8.59826338e-03,\n",
       "          6.23885822e-03,  8.19968898e-03, -8.12352111e-04, -3.67369293e-03,\n",
       "          5.13705052e-03,  1.96933630e-03, -9.94710997e-03,  5.08075859e-03,\n",
       "          5.03017940e-03, -2.92131351e-03, -3.33809364e-03,  9.57502611e-03,\n",
       "          1.77619059e-03, -8.33513122e-03,  3.81528260e-03,  6.19316287e-03,\n",
       "          9.64295585e-03, -4.18184930e-03,  7.02671288e-03, -3.93572683e-03,\n",
       "          2.18710979e-03,  5.48627367e-03, -2.22793967e-03,  2.82981945e-03,\n",
       "          9.45686176e-03, -7.31879438e-04, -2.95315078e-03, -3.16187087e-03,\n",
       "          2.51202169e-03, -9.67358891e-03, -5.89429028e-03, -7.72143761e-03,\n",
       "          6.05542772e-03,  7.95508642e-03,  5.87694906e-03, -9.21694469e-03,\n",
       "         -5.38592972e-03,  9.27222834e-04, -9.15847905e-03,  6.93207374e-03,\n",
       "          1.76623091e-03,  1.90858624e-03,  6.41750218e-03,  5.97641012e-03,\n",
       "          4.75735491e-04,  8.57001077e-03, -9.78302211e-03, -2.35622004e-03,\n",
       "          7.95370154e-03,  7.95496628e-03,  5.37097501e-03, -5.51413791e-03,\n",
       "          3.40004475e-03,  1.25133863e-03, -9.04189236e-03,  1.50077976e-03,\n",
       "         -3.08338017e-03,  1.45058257e-05, -8.34472384e-03,  8.00085347e-03,\n",
       "          9.75371059e-03,  8.32186453e-03, -3.72423115e-03, -4.91531473e-03,\n",
       "          6.43084897e-03,  3.50346696e-03,  9.71991476e-03,  2.93541304e-03,\n",
       "         -5.46080340e-03, -5.98937832e-03,  6.55758800e-03, -9.35615692e-03,\n",
       "         -2.08216906e-03,  4.87831188e-03,  7.91719183e-03, -7.78197357e-03,\n",
       "         -8.27454403e-03, -2.43747677e-03, -4.75452328e-03, -6.49339519e-03,\n",
       "         -8.19772389e-03, -2.74452427e-03,  5.75629121e-04, -1.04562531e-03,\n",
       "          5.42465737e-03, -7.52424728e-03, -5.49352122e-03,  4.16445732e-03,\n",
       "         -7.64908036e-03, -1.67867972e-03,  9.29771829e-03, -6.48909295e-03,\n",
       "         -8.61641672e-03, -8.80403072e-03,  1.74495007e-03, -1.16961164e-04,\n",
       "          8.38589016e-03,  3.66720883e-03,  5.41795604e-03,  6.25051232e-03,\n",
       "          3.81288072e-03,  9.12894538e-05,  2.31747678e-03,  7.34909717e-03,\n",
       "         -5.11892326e-03, -6.50975737e-04,  4.24327655e-03,  2.09155827e-04,\n",
       "         -5.89222589e-04, -3.02936160e-03,  6.70234021e-03, -3.38988774e-03,\n",
       "          6.78415736e-03, -6.52908674e-03, -6.70915749e-03,  7.82391429e-03,\n",
       "         -1.74505799e-03,  6.26048213e-03, -6.65089441e-03, -4.22488945e-03,\n",
       "          6.00989535e-03,  3.65816406e-03,  8.79879296e-03,  9.93476342e-03,\n",
       "         -1.60231697e-03, -8.51493236e-03, -4.27526562e-03, -4.73399926e-03,\n",
       "          8.83482746e-04,  8.77742004e-03,  4.09170100e-03, -6.03149319e-03,\n",
       "          2.15550372e-03,  4.17624287e-05, -2.32080417e-03, -4.53092810e-03,\n",
       "          1.76888017e-03, -7.40530947e-03, -2.52116052e-03, -7.66016729e-03,\n",
       "         -9.00770631e-03,  8.79911054e-03,  3.27261910e-03, -3.29538737e-03,\n",
       "         -8.30290373e-03,  8.49002693e-03, -2.05517703e-04, -7.51733966e-03,\n",
       "          7.17237405e-03,  7.80277653e-03,  1.03577622e-03, -6.24421425e-03,\n",
       "         -4.18927101e-03, -4.11128579e-03, -8.30847584e-03,  6.64551696e-03,\n",
       "         -6.67934306e-03,  8.33667908e-03,  5.84294833e-03,  8.98950268e-03,\n",
       "         -9.46708955e-04, -1.00207247e-03, -4.80787130e-03,  5.25290100e-03,\n",
       "          1.15446479e-03,  3.98517633e-03, -7.36069866e-04,  6.28870493e-03,\n",
       "          7.73989316e-03, -5.74427657e-03, -3.66337737e-03,  1.62752601e-03,\n",
       "         -1.17224257e-03, -9.57894325e-03,  4.75784345e-03, -1.65214602e-04,\n",
       "          9.52157099e-03, -5.50352689e-03, -2.99414434e-03, -9.80421668e-04,\n",
       "          4.99585085e-03, -4.42876108e-03, -1.36605743e-03,  6.22105040e-03,\n",
       "         -3.92314512e-03,  9.78936255e-03,  4.21132892e-03,  2.31395196e-03,\n",
       "          9.33349039e-03, -7.25527667e-03,  6.62308373e-03,  2.67504738e-03,\n",
       "          1.27631635e-03,  4.45581321e-03, -7.67494272e-03,  5.00589085e-04,\n",
       "          5.77708101e-03,  9.64230020e-03, -2.98669620e-04, -5.63874468e-03,\n",
       "         -4.76208021e-04, -4.66040522e-03, -9.03833006e-03,  4.56609763e-03,\n",
       "         -5.20469854e-03,  9.96652618e-03, -7.43593927e-03, -8.60645529e-03,\n",
       "         -1.15983677e-03,  5.04347822e-03,  8.39673076e-03,  6.36206614e-03,\n",
       "          6.03594643e-04, -9.21801291e-03, -3.97902448e-03,  8.80587322e-04,\n",
       "         -1.94289989e-03, -2.74721766e-03, -1.95489428e-03, -9.49817803e-03,\n",
       "          6.38827961e-03,  1.32101006e-03,  9.44813341e-03, -1.76102074e-03,\n",
       "          5.96050033e-03,  5.13043778e-04,  3.20737856e-03,  3.38837574e-03,\n",
       "         -2.39662500e-03, -8.14978220e-03,  5.58673963e-03, -4.16935422e-03,\n",
       "         -2.67966650e-03, -8.09154660e-03,  6.62553823e-03,  5.36365015e-03,\n",
       "         -5.66755130e-04, -9.06114653e-03, -2.68791849e-03,  9.87365842e-03,\n",
       "         -5.31647028e-03,  3.04298685e-03, -4.50684782e-03, -3.50108882e-03,\n",
       "          7.45316735e-03,  2.55267089e-03,  4.81439242e-03, -3.66648682e-03,\n",
       "          7.95370154e-03,  7.95496628e-03,  5.37097501e-03, -5.51413791e-03,\n",
       "          3.40004475e-03,  1.25133863e-03, -9.04189236e-03,  1.50077976e-03,\n",
       "         -3.08338017e-03,  1.45058257e-05, -8.34472384e-03,  8.00085347e-03,\n",
       "          9.75371059e-03,  8.32186453e-03, -3.72423115e-03, -4.91531473e-03,\n",
       "          6.43084897e-03,  3.50346696e-03,  9.71991476e-03,  2.93541304e-03,\n",
       "         -5.46080340e-03, -5.98937832e-03,  6.55758800e-03, -9.35615692e-03,\n",
       "         -2.08216906e-03,  4.87831188e-03,  7.91719183e-03, -7.78197357e-03,\n",
       "         -8.27454403e-03, -2.43747677e-03, -4.75452328e-03, -6.49339519e-03,\n",
       "         -8.19772389e-03, -2.74452427e-03,  5.75629121e-04, -1.04562531e-03,\n",
       "          5.42465737e-03, -7.52424728e-03, -5.49352122e-03,  4.16445732e-03,\n",
       "         -7.64908036e-03, -1.67867972e-03,  9.29771829e-03, -6.48909295e-03,\n",
       "         -8.61641672e-03, -8.80403072e-03,  1.74495007e-03, -1.16961164e-04,\n",
       "          8.38589016e-03,  3.66720883e-03,  5.58063900e-03,  7.01026525e-03,\n",
       "         -2.87180999e-03,  9.80733056e-03, -8.95133801e-03,  6.30756421e-03,\n",
       "         -6.67273672e-03, -1.16604648e-03, -4.42502263e-04,  1.84928329e-04,\n",
       "         -3.72864702e-03,  3.00017942e-04, -7.52974069e-03,  8.36513285e-03,\n",
       "         -8.09590891e-03,  2.85150670e-03,  7.91289285e-03,  4.31624288e-03,\n",
       "         -9.20415390e-03,  2.43546674e-03, -4.45969123e-03,  4.44301032e-03,\n",
       "          1.13189348e-03,  7.99012929e-03,  6.11761957e-03, -8.57527461e-03,\n",
       "         -2.58254679e-03,  4.47122054e-03, -4.22666874e-03,  9.03447066e-03,\n",
       "          2.31782231e-03,  4.73532826e-03,  2.39950116e-03, -2.45834794e-03,\n",
       "         -3.76998261e-03, -3.14829987e-03,  8.43662675e-03,  1.87037187e-03,\n",
       "         -5.31408424e-03,  7.98008312e-03,  9.43435822e-03,  1.80062687e-03,\n",
       "         -4.43203328e-03,  1.49198552e-03,  1.18859985e-03, -1.77476832e-04,\n",
       "         -3.11650056e-03, -3.80187668e-03, -5.43936249e-03,  8.27994477e-03,\n",
       "         -7.45298527e-03,  8.48494004e-03, -6.96044043e-03,  1.21416035e-03,\n",
       "          2.12244922e-03,  9.32217669e-03, -2.27591651e-03, -7.15214154e-03,\n",
       "         -1.51324319e-03, -7.15910411e-03, -7.28993583e-03, -1.01163860e-04,\n",
       "          2.65278886e-05,  8.29186011e-03, -3.55144567e-03, -9.75892821e-04,\n",
       "          1.56152726e-03,  3.52455792e-03, -9.60769970e-03,  6.30474230e-03,\n",
       "         -2.68267258e-03, -3.36825149e-04,  4.95099463e-03, -1.48769980e-03,\n",
       "          2.75768572e-03, -8.70000664e-03,  2.71304697e-03,  9.08123981e-03,\n",
       "         -7.90643692e-03,  5.77728730e-03, -4.80537582e-03, -2.23765546e-03,\n",
       "         -8.91862903e-03,  3.65080452e-03, -7.06130778e-03, -1.16904639e-05,\n",
       "         -5.44928573e-03, -2.04256899e-03,  6.47705374e-03,  1.30971952e-03,\n",
       "         -3.86920199e-03,  7.27257458e-03,  6.14088087e-04, -6.94382656e-03,\n",
       "         -8.50426499e-03,  4.56816843e-03,  3.33286211e-04,  5.49605815e-04,\n",
       "          8.93675839e-04, -3.36066051e-03, -1.38051610e-03,  8.94427020e-03,\n",
       "          6.35724980e-04, -1.95702328e-03,  2.85970489e-03, -5.59569476e-03,\n",
       "          7.17151817e-03,  7.19268527e-03,  3.87046370e-03, -6.85945200e-03,\n",
       "          8.08517169e-03,  8.98100529e-03,  6.96538715e-04,  6.03169948e-03,\n",
       "         -1.60950283e-03,  6.17077667e-03,  1.58185873e-03, -9.89827607e-03,\n",
       "         -7.97169097e-03, -8.46020970e-03,  1.73711043e-03,  3.73038300e-03,\n",
       "         -7.40432320e-03,  3.78538063e-03,  1.54117483e-03,  9.55046248e-03,\n",
       "         -3.65871005e-04,  5.55778574e-03, -4.74997191e-03, -9.82333161e-03,\n",
       "         -1.11435552e-03,  2.42462917e-03,  9.39862989e-03, -9.86004435e-03,\n",
       "         -7.77771091e-03, -6.37603877e-03, -5.76416403e-03,  4.79286723e-03,\n",
       "          6.34262245e-03, -7.62747880e-03,  1.57765287e-03, -7.06089288e-03,\n",
       "          1.00055393e-02,  1.66307704e-03,  7.78622041e-03,  1.15491229e-03,\n",
       "         -1.47974599e-04,  6.20096503e-03,  5.95972454e-03,  6.22393424e-03,\n",
       "         -6.09690277e-03,  7.57750170e-03, -8.81492067e-03,  1.32310297e-03,\n",
       "         -9.21580382e-03, -1.00024417e-02,  4.55116294e-03, -6.16119150e-03,\n",
       "         -1.90062530e-03,  7.76357809e-03,  1.00496423e-03, -6.16387511e-03,\n",
       "         -6.88605011e-03, -8.79619620e-05,  8.16330314e-03, -6.86227344e-04,\n",
       "          5.72048360e-03, -3.72151728e-04, -9.89212934e-03, -7.78098172e-03,\n",
       "          8.81388038e-03,  4.02569259e-03,  5.90363750e-03,  9.58760083e-03,\n",
       "          4.50070808e-03, -1.33591774e-03, -9.02399793e-03,  9.29323118e-03,\n",
       "         -2.55629366e-05, -2.81733507e-03,  8.00424069e-03, -4.07947344e-04,\n",
       "          5.14124241e-03, -5.33762760e-03, -9.92983766e-03,  4.83531877e-03,\n",
       "          1.61161786e-03,  8.65871925e-03,  5.06441575e-03, -5.12108579e-03,\n",
       "          5.20598190e-03, -1.26906403e-03,  1.65183563e-03,  9.89260525e-03,\n",
       "         -9.02730448e-04,  6.99645793e-03, -3.97634972e-03,  1.76330702e-03,\n",
       "         -9.54665616e-03,  3.05653038e-03, -5.59255574e-03, -7.09033245e-03,\n",
       "         -1.29306852e-03,  7.96118565e-03,  7.89794605e-03,  6.91094110e-03,\n",
       "          2.83308118e-03, -4.24702559e-03, -7.24799046e-03,  4.80380002e-03,\n",
       "          2.83238618e-03,  9.77096613e-04, -1.36987795e-03, -5.00125671e-03,\n",
       "         -2.09098519e-03, -7.50553468e-03, -5.09299012e-03,  4.71657887e-03,\n",
       "         -2.84234062e-03, -7.61346251e-04,  8.32556188e-03,  9.24623664e-03,\n",
       "          7.64204469e-03,  3.30793415e-03, -3.85462889e-03,  2.10603373e-03,\n",
       "         -4.02073609e-03, -8.28846171e-03,  3.45581979e-03,  3.98152135e-03,\n",
       "          6.47426071e-03, -4.02494613e-03, -8.71020090e-03, -7.04749196e-04,\n",
       "          9.99477040e-03, -8.15990195e-03, -5.67108812e-03,  5.26679168e-03,\n",
       "         -1.71597279e-03,  5.98236627e-04,  8.98698438e-03,  1.21840159e-03,\n",
       "         -9.10820812e-03, -3.66669591e-03, -2.31583812e-03,  7.51897134e-03,\n",
       "          8.34976137e-03, -2.57149339e-03, -1.96107183e-04, -2.22694548e-03,\n",
       "         -5.49623743e-03,  5.27857104e-03,  2.55320012e-03, -6.53745187e-03,\n",
       "          7.09781671e-05,  9.63986292e-03,  5.89645701e-03,  7.65001960e-03,\n",
       "          1.20260951e-03, -2.29284586e-03, -1.93894724e-03,  1.26021693e-03,\n",
       "          7.26333959e-03,  8.33392888e-03,  8.52819066e-03, -5.77661069e-03,\n",
       "         -8.60312604e-04, -9.63029452e-03, -3.62778478e-03, -5.27978735e-03,\n",
       "         -8.90878495e-03,  5.89647749e-03, -3.23501648e-03,  1.19733019e-03,\n",
       "          3.75130121e-03, -6.22418849e-03, -8.25423095e-03,  8.13507568e-03,\n",
       "         -1.78446877e-04, -4.34198650e-03,  6.89357240e-03, -8.27400107e-03,\n",
       "          5.78072249e-05, -7.07426434e-03,  2.36950908e-03, -4.40189382e-03,\n",
       "         -7.67655950e-03, -1.41951465e-03, -4.90667298e-03,  4.79824422e-03,\n",
       "         -3.29476257e-04,  3.00021842e-03,  4.06963844e-03, -6.78408099e-03,\n",
       "          6.11472223e-03,  2.81336647e-03,  8.56407918e-03,  4.45773243e-04,\n",
       "          1.28297484e-03, -9.50908475e-03, -3.71722947e-03, -1.02994405e-03,\n",
       "         -6.73535233e-03,  3.72170075e-03,  2.72197300e-03, -5.24543133e-03,\n",
       "         -6.51104283e-03, -4.37206635e-03, -8.86223931e-03, -3.14633525e-03,\n",
       "          5.64343715e-03,  9.65022203e-03, -9.89154261e-03,  8.41545407e-03,\n",
       "          9.20810271e-03, -7.59764388e-03, -5.86727401e-04, -1.34033698e-03,\n",
       "          6.88285474e-03, -1.34044490e-03,  3.76023701e-03, -5.29513741e-03,\n",
       "         -5.96582610e-03,  5.67468116e-03, -4.00771946e-03,  5.80959814e-03,\n",
       "          3.49838170e-03, -3.17737041e-03, -8.94224178e-03, -2.43286486e-03,\n",
       "         -9.35270637e-03,  7.83338677e-03,  4.91894642e-03,  4.87723667e-03,\n",
       "         -9.69056226e-03,  4.33994504e-03, -4.99891303e-03, -6.02261862e-03,\n",
       "          2.63786432e-03,  6.41955854e-03, -3.17235221e-03,  2.88249389e-03,\n",
       "          7.80451996e-03,  1.03875482e-03, -7.70920329e-03,  9.23740398e-03,\n",
       "          8.03129375e-03,  2.05988227e-03, -6.99817017e-03,  3.60230479e-05],\n",
       "        dtype=float32)),\n",
       " (['did',\n",
       "   'Walt',\n",
       "   'Disney',\n",
       "   'sport',\n",
       "   'that',\n",
       "   'none',\n",
       "   'of',\n",
       "   'from',\n",
       "   '?',\n",
       "   'DESC',\n",
       "   ':',\n",
       "   'desc',\n",
       "   'What',\n",
       "   'facial'],\n",
       "  array([-9.2073865e-03, -7.0485793e-04,  3.6753826e-03, -4.7863466e-03,\n",
       "          7.4484800e-03, -2.9142615e-03,  3.3796977e-03, -9.5650638e-03,\n",
       "          5.4218587e-03, -8.5104667e-03, -4.0031443e-03,  1.6865677e-03,\n",
       "          3.3786173e-03, -3.9502890e-03, -5.5112634e-03, -5.9559015e-03,\n",
       "          5.7742749e-03, -2.5889289e-03,  8.0180615e-03,  1.1051234e-03,\n",
       "         -9.2864502e-03,  1.6433613e-03, -2.4028674e-03,  3.2103613e-03,\n",
       "          1.3365869e-03,  7.3196194e-03,  1.2423616e-03,  8.8030873e-03,\n",
       "          3.9873281e-03, -6.8847351e-03, -3.5024432e-03,  1.2763634e-03,\n",
       "          9.6927788e-03,  7.7403882e-03,  9.2858365e-03, -4.1165454e-03,\n",
       "          7.9691311e-04, -5.7264594e-03,  2.0444193e-03,  3.3901699e-04,\n",
       "         -7.8562675e-03,  3.3225985e-03, -4.2042672e-03, -7.3114010e-03,\n",
       "          3.7983544e-03, -5.5511907e-04,  8.9327767e-03, -2.7241949e-03,\n",
       "          9.1377841e-03,  5.9730876e-03, -2.9968291e-03,  3.3984354e-04,\n",
       "         -6.9317166e-03,  4.0562605e-03, -5.2783461e-03,  8.8635869e-03,\n",
       "         -8.8012628e-03, -5.7999678e-03,  7.0584696e-03,  4.6144114e-03,\n",
       "         -2.4741609e-03,  8.7239500e-03, -5.2067512e-03, -6.0033710e-03,\n",
       "          6.2451572e-03,  6.8055379e-04,  9.6665137e-03, -8.1921965e-03,\n",
       "          7.4526598e-03, -3.9966251e-03,  2.7511911e-03, -7.4248796e-04,\n",
       "          9.4433427e-03,  2.1143123e-03,  7.2600478e-03, -8.8144233e-03,\n",
       "          6.2706335e-03,  4.1733967e-04,  3.9934963e-03, -9.0472158e-03,\n",
       "          4.7174716e-04, -6.7220037e-03, -8.9391563e-03, -8.3472263e-03,\n",
       "          7.1550817e-03,  1.6654655e-03, -8.7207062e-03,  4.9655018e-03,\n",
       "          9.9472608e-03,  6.3806218e-03, -1.1695219e-03, -7.6864706e-03,\n",
       "          8.3145136e-03, -9.7886948e-03, -3.7587639e-03, -3.9953319e-03,\n",
       "          1.1200870e-03, -3.2474818e-03,  2.5044074e-03,  9.7412560e-03,\n",
       "         -7.5770169e-03,  8.5167466e-03,  1.8327589e-03,  5.7898541e-03,\n",
       "          5.1170625e-03, -3.4788987e-03, -4.9949591e-03,  4.9460889e-03,\n",
       "         -6.0821157e-03, -7.9646446e-03,  1.4940944e-03,  5.1303753e-03,\n",
       "          3.1867626e-03, -2.5002737e-04,  5.9622908e-03,  6.9151721e-03,\n",
       "          2.6988317e-03,  3.0541564e-03,  1.8315107e-03,  9.0994006e-03,\n",
       "         -6.2065050e-03, -9.2339646e-03,  8.4094321e-03,  8.2740756e-03,\n",
       "         -1.6640752e-03, -7.2491737e-03, -5.3475364e-03,  5.4908833e-03,\n",
       "         -8.0057019e-03,  7.5675077e-03,  9.2991808e-04,  6.0962215e-03,\n",
       "         -6.1451481e-03,  4.2505683e-03, -8.3577801e-03, -5.1521277e-03,\n",
       "         -8.9328373e-03, -8.6758789e-03,  4.8649334e-03, -7.8901118e-03,\n",
       "         -3.1123108e-03, -5.8369786e-03,  4.1016298e-03, -5.5549145e-03,\n",
       "         -3.8907363e-03, -9.9862199e-03, -7.0314034e-04, -1.2811161e-04,\n",
       "         -8.5711777e-03,  1.0697523e-03,  2.6595732e-03,  1.6568410e-03,\n",
       "         -9.5325075e-03,  7.0808199e-04, -3.6021157e-03, -8.5078711e-03,\n",
       "          3.2914139e-03, -7.1607023e-03,  7.4610803e-03,  4.7062528e-03,\n",
       "          4.7468757e-03,  2.5450296e-03, -6.0577044e-04, -2.5412021e-03,\n",
       "          6.9581824e-03,  5.7217367e-03,  2.9220367e-03,  5.6862305e-03,\n",
       "          6.6999402e-03,  2.3449967e-03,  5.3066760e-06,  6.0886808e-04,\n",
       "         -4.1967183e-03,  1.6087458e-03, -5.0199027e-03, -4.0534106e-03,\n",
       "          7.5737950e-03,  8.7833805e-03, -4.2520380e-03, -4.3175707e-04,\n",
       "         -8.6913304e-03,  8.5537415e-04, -8.7847365e-03, -6.8150417e-05,\n",
       "         -4.2721098e-03,  7.5785057e-03, -8.7277293e-03, -7.7581923e-03,\n",
       "         -9.3510030e-03,  3.3186791e-03,  5.5614016e-03,  4.2351603e-04,\n",
       "         -4.6411008e-03,  5.7964567e-03, -2.6732706e-03,  1.2551913e-03,\n",
       "         -1.2168948e-03,  8.3633354e-03,  7.0018666e-03,  9.5473984e-03,\n",
       "          6.4718272e-03,  2.7143466e-03, -8.1137083e-03, -6.0739825e-03,\n",
       "          7.7166264e-03, -7.9517569e-03,  2.1380917e-03,  6.7653256e-03,\n",
       "          4.9750106e-03, -3.1008206e-03,  2.6395477e-03,  1.9512351e-03,\n",
       "          1.3986841e-03,  8.1619008e-05, -2.0026665e-03,  4.7492357e-03,\n",
       "         -7.6828832e-03,  5.1797950e-03,  7.9578329e-03,  9.4246073e-03,\n",
       "          4.7317141e-04,  5.9440308e-03,  5.7236128e-03,  2.9312691e-03,\n",
       "          2.4446442e-03, -6.6757412e-03, -1.1675576e-03,  1.0285620e-05,\n",
       "          1.9645405e-03, -1.7279289e-03, -4.0448848e-03,  2.0264217e-03,\n",
       "          6.6173554e-04,  8.9595048e-03,  7.1542170e-03, -3.7750637e-04,\n",
       "          9.3899025e-03,  5.7669613e-03,  1.1073009e-03, -6.5922081e-03,\n",
       "          3.9841789e-03,  5.6782169e-03,  9.6356887e-03, -5.4518734e-03,\n",
       "         -1.6136221e-03, -2.5592491e-03,  6.2384913e-03, -3.1376628e-03,\n",
       "         -3.7601588e-03, -3.6446096e-03,  4.7615920e-03, -2.5617469e-03,\n",
       "          2.8114819e-03,  9.5423544e-03,  8.6488505e-04, -1.2445431e-03,\n",
       "          1.6082025e-03, -9.3074414e-05,  8.9954026e-03, -3.8149606e-03,\n",
       "         -5.6653786e-03,  2.2837000e-03, -3.4562773e-03,  3.7250810e-03,\n",
       "          2.3419552e-03, -5.7711435e-04,  2.9421311e-03,  6.6329702e-03,\n",
       "          8.1509110e-03,  6.1909799e-03, -2.6649539e-03, -1.0264239e-03,\n",
       "         -2.0826489e-03,  9.4686868e-03,  9.1331900e-04, -3.6382256e-03,\n",
       "          6.5521202e-03, -2.1614768e-03, -5.0085713e-03, -1.1505790e-03,\n",
       "         -9.9126846e-03,  1.6238441e-03, -6.2505472e-03,  7.4415063e-03,\n",
       "          6.6525806e-03, -3.1152158e-03,  6.8974765e-03,  1.3720839e-03,\n",
       "         -4.0864809e-03, -2.4852320e-03,  8.3389152e-03,  7.9913186e-03,\n",
       "          5.2918127e-04,  2.5092203e-03, -7.8421868e-03, -4.1967942e-03,\n",
       "         -2.7284077e-03,  3.4077386e-03, -9.5737856e-03, -8.5804630e-03,\n",
       "         -7.1628666e-03,  8.5982634e-03,  6.2388582e-03,  8.1996890e-03,\n",
       "         -8.1235211e-04, -3.6736929e-03,  5.1370505e-03,  1.9693363e-03,\n",
       "         -9.9471100e-03,  5.0807586e-03,  5.0301794e-03, -2.9213135e-03,\n",
       "         -3.3380936e-03,  9.5750261e-03,  1.7761906e-03, -8.3351312e-03,\n",
       "          3.8152826e-03,  6.1931629e-03,  9.6429558e-03, -4.1818493e-03,\n",
       "          7.0267129e-03, -3.9357268e-03,  2.1871098e-03,  5.4862737e-03,\n",
       "         -2.2279397e-03,  2.8298195e-03,  9.4568618e-03, -7.3187944e-04,\n",
       "         -2.9531508e-03, -3.1618709e-03,  2.5120217e-03, -9.6735889e-03,\n",
       "         -5.8942903e-03, -7.7214376e-03,  6.0554277e-03,  7.9550864e-03,\n",
       "          5.8769491e-03, -9.2169447e-03, -5.3859297e-03,  9.2722283e-04,\n",
       "         -9.1584790e-03,  6.9320737e-03,  1.7662309e-03,  1.9085862e-03,\n",
       "          6.4175022e-03,  5.9764101e-03,  4.7573549e-04,  8.5700108e-03,\n",
       "         -9.7830221e-03, -2.3562200e-03,  7.6680076e-03,  1.6682831e-03,\n",
       "         -7.2228098e-03,  9.1474876e-03, -1.2805150e-03, -5.8752485e-03,\n",
       "         -4.9332483e-03, -4.0650577e-03, -6.9694238e-04,  1.2359297e-03,\n",
       "          8.5446611e-04, -3.8538538e-03,  9.2133796e-03,  5.8137332e-03,\n",
       "         -6.8799513e-03,  6.6471826e-03,  7.1047684e-03,  5.5528879e-03,\n",
       "          1.1581287e-03,  1.0066247e-03,  6.6771368e-03,  4.1515273e-03,\n",
       "          6.2718107e-03,  6.6044470e-03, -1.3698440e-03, -5.4849088e-03,\n",
       "          4.0404517e-03,  4.3356246e-03, -4.2998833e-03, -1.1783930e-03,\n",
       "         -9.2923781e-03, -9.1012875e-03,  9.6341753e-03, -7.2727026e-03,\n",
       "          5.9165158e-03,  7.8294333e-03, -5.7940446e-03,  6.3033504e-03,\n",
       "         -1.0692725e-03,  4.3400722e-03,  8.3412314e-03,  7.5137718e-03,\n",
       "         -2.6957621e-03, -7.2583859e-03, -5.9073139e-03,  6.0933558e-03,\n",
       "          7.1956590e-03, -1.1121506e-03, -4.7995830e-03, -3.9087362e-03,\n",
       "         -2.7464868e-03, -8.5951108e-03,  4.4731521e-03,  5.8121267e-03,\n",
       "         -8.7481737e-03, -4.4963635e-03,  6.3021514e-03, -4.7970507e-03,\n",
       "          9.7559234e-03, -8.6614182e-03,  5.0261039e-03,  7.5016818e-03,\n",
       "         -9.8124137e-03, -4.4423281e-04,  7.1861158e-04, -6.9762357e-03,\n",
       "         -5.9813713e-03, -4.6144952e-03, -2.9195792e-03, -3.2878404e-03,\n",
       "         -9.0997750e-03, -1.2299690e-03,  7.3487596e-03, -1.0471264e-03,\n",
       "          9.2651565e-03, -6.3450392e-03,  6.5327985e-03,  9.8008977e-04,\n",
       "         -9.0745520e-03,  1.8343516e-04, -3.8139666e-03,  1.0982101e-03,\n",
       "         -4.7298260e-03, -3.3107253e-03,  4.2845118e-03,  4.7306227e-04,\n",
       "          8.4676957e-03, -7.4150232e-03, -6.9083767e-03, -2.2915483e-03,\n",
       "         -7.2073988e-03, -2.1556765e-03, -3.6589373e-03,  9.6644107e-03,\n",
       "          2.5373967e-03,  2.4245174e-03,  6.1048698e-03,  6.8143121e-04,\n",
       "         -9.5438724e-03,  4.1707931e-03,  6.5753306e-03,  5.9514786e-03,\n",
       "          1.6500062e-03, -5.3357463e-03,  6.1375848e-03, -3.2679171e-03,\n",
       "         -5.4848762e-03,  3.5830487e-03,  8.4965928e-03,  1.5814903e-03,\n",
       "          9.1340970e-03,  1.8062326e-03,  7.5353081e-03, -1.4208442e-03,\n",
       "          7.8631286e-03, -9.7057568e-03, -8.4258504e-03, -1.9764772e-03,\n",
       "         -5.2205091e-03, -6.6010966e-03, -5.1134345e-03,  5.7677091e-03,\n",
       "         -3.3982864e-03,  8.9249425e-03, -5.1467763e-03, -8.7086586e-03,\n",
       "         -7.3501235e-03,  7.2555873e-03,  5.0852927e-03, -9.5173130e-03,\n",
       "         -5.7902094e-03, -9.5177712e-03, -6.5237554e-03, -4.6978025e-03,\n",
       "         -2.9951672e-03, -4.1473247e-03,  9.9930763e-03, -1.3688827e-03,\n",
       "          9.7875800e-03,  7.8092352e-03, -3.4229676e-03, -1.1435768e-03,\n",
       "         -9.0704225e-03,  5.7272878e-03,  2.2640123e-03, -1.6737842e-03,\n",
       "          2.9694929e-03,  8.7159358e-05,  5.3284005e-03, -5.9808358e-03,\n",
       "          5.5806390e-03,  7.0102653e-03, -2.8718100e-03,  9.8073306e-03,\n",
       "         -8.9513380e-03,  6.3075642e-03, -6.6727367e-03, -1.1660465e-03,\n",
       "         -4.4250226e-04,  1.8492833e-04, -3.7286470e-03,  3.0001794e-04,\n",
       "         -7.5297407e-03,  8.3651328e-03, -8.0959089e-03,  2.8515067e-03,\n",
       "          7.9128928e-03,  4.3162429e-03, -9.2041539e-03,  2.4354667e-03,\n",
       "         -4.4596912e-03,  4.4430103e-03,  1.1318935e-03,  7.9901293e-03,\n",
       "          6.1176196e-03, -8.5752746e-03, -2.5825468e-03,  4.4712205e-03,\n",
       "         -4.2266687e-03,  9.0344707e-03,  2.3178223e-03,  4.7353283e-03,\n",
       "          2.3995012e-03, -2.4583479e-03, -3.7699826e-03, -3.1482999e-03,\n",
       "          8.4366268e-03,  1.8703719e-03, -5.3140842e-03,  7.9800831e-03,\n",
       "          9.4343582e-03,  1.8006269e-03, -4.4320333e-03,  1.4919855e-03,\n",
       "          1.1885999e-03, -1.7747683e-04, -3.1165006e-03, -3.8018767e-03,\n",
       "         -5.4393625e-03,  8.2799448e-03, -5.0316416e-03, -6.9066696e-03,\n",
       "         -2.6275672e-03,  2.6007809e-03, -2.9205629e-03, -8.7592723e-03,\n",
       "         -5.6795771e-03, -1.0249552e-03, -7.1114586e-03, -1.6373268e-03,\n",
       "         -4.3871398e-03,  4.3970710e-03,  5.7341246e-04,  1.4352112e-03,\n",
       "          1.2595168e-03,  2.0312674e-03,  4.0323888e-03,  1.0184231e-03,\n",
       "          5.8949850e-03, -8.7082433e-03,  9.3987146e-03, -8.8416142e-03,\n",
       "          6.9343983e-03, -7.1625616e-03,  3.7565024e-03, -7.5763516e-04,\n",
       "          8.8432032e-05, -8.4992927e-03, -8.0531063e-03, -8.3234971e-03,\n",
       "          2.5599315e-03, -1.3282093e-03,  7.0054894e-03, -5.6779915e-03,\n",
       "         -2.4307067e-04, -1.1399807e-03, -1.7964508e-03,  5.6513175e-03,\n",
       "         -3.7318673e-03, -5.7820650e-04,  3.2556467e-03, -1.3604277e-03,\n",
       "         -8.9576198e-03, -7.6011303e-03,  4.9217758e-03,  4.0378198e-03,\n",
       "          1.9086192e-03,  3.0706183e-03,  3.5521842e-03,  7.1065244e-03,\n",
       "         -1.3805161e-03,  8.9442702e-03,  6.3572498e-04, -1.9570233e-03,\n",
       "          2.8597049e-03, -5.5956948e-03,  7.1715182e-03,  7.1926853e-03,\n",
       "          3.8704637e-03, -6.8594520e-03,  8.0851717e-03,  8.9810053e-03,\n",
       "          6.9653871e-04,  6.0316995e-03, -1.6095028e-03,  6.1707767e-03,\n",
       "          1.5818587e-03, -9.8982761e-03, -7.9716910e-03, -8.4602097e-03,\n",
       "          1.7371104e-03,  3.7303830e-03, -7.4043232e-03,  3.7853806e-03,\n",
       "          1.5411748e-03,  9.5504625e-03, -3.6587100e-04,  5.5577857e-03,\n",
       "         -4.7499719e-03, -9.8233316e-03, -1.1143555e-03,  2.4246292e-03,\n",
       "          9.3986299e-03, -9.8600443e-03, -7.7777109e-03, -6.3760388e-03,\n",
       "         -5.7641640e-03,  4.7928672e-03,  6.3426225e-03, -7.6274788e-03,\n",
       "          1.5776529e-03, -7.0608929e-03,  1.0005539e-02,  1.6630770e-03,\n",
       "          7.7862204e-03,  1.1549123e-03, -1.4797460e-04,  6.2009650e-03,\n",
       "          5.9597245e-03,  6.2239342e-03, -9.0712951e-03,  2.2592507e-03,\n",
       "          5.5254125e-03, -3.7588705e-03,  4.6239952e-03,  3.4107130e-03,\n",
       "          5.1587145e-03, -7.7135675e-04,  9.6404999e-03,  8.4857102e-03,\n",
       "         -7.3659737e-03,  8.0494722e-03,  3.7095197e-03,  2.9727330e-03,\n",
       "          8.9133577e-03,  9.8968614e-03, -3.5616502e-03,  2.1602204e-03,\n",
       "         -7.8173298e-03, -7.2021428e-03, -8.0579668e-03,  7.7501284e-03,\n",
       "          2.4751588e-03,  4.8332065e-03, -3.0768595e-03,  4.9124942e-03,\n",
       "          1.0232000e-03,  2.7404472e-03,  8.9112151e-04, -4.0474911e-03,\n",
       "          9.2175435e-03, -6.0552885e-03,  8.8195885e-03,  7.9701934e-03,\n",
       "         -3.5532925e-03,  9.3537625e-03,  3.7441808e-03,  6.8642534e-03,\n",
       "         -6.0230400e-03, -8.8132014e-03,  4.3463684e-03, -6.3509750e-03,\n",
       "          9.2656398e-03, -8.8625802e-03,  7.4559343e-03,  2.2352852e-03,\n",
       "         -7.2546531e-03,  4.9122288e-03,  9.8992195e-03,  6.2145493e-03],\n",
       "        dtype=float32)),\n",
       " (['dealer',\n",
       "   \"'\",\n",
       "   's',\n",
       "   'choice',\n",
       "   '?',\n",
       "   'NUM',\n",
       "   ':',\n",
       "   'ENTY',\n",
       "   ':',\n",
       "   'sport',\n",
       "   'What',\n",
       "   'card',\n",
       "   'game',\n",
       "   'can'],\n",
       "  array([-2.43254052e-03, -2.47512409e-03, -1.46022392e-03,  5.85166924e-03,\n",
       "          2.15751026e-03, -5.82968758e-04, -3.92615516e-03, -4.14036866e-03,\n",
       "          9.53388121e-03,  4.26335027e-03,  3.78766819e-03,  6.88283704e-03,\n",
       "         -3.53052455e-04, -5.36124688e-03,  5.69855701e-03,  3.59028025e-04,\n",
       "         -3.90421809e-03, -9.08316672e-03,  5.84447407e-04,  5.10779861e-03,\n",
       "          3.12425499e-03,  3.59554845e-03,  5.37722046e-03, -1.47713436e-04,\n",
       "          2.20643217e-03, -3.61055858e-03, -4.48803511e-03, -8.49241018e-03,\n",
       "          4.23859153e-03, -1.21738145e-03,  3.06648761e-03, -3.15164961e-03,\n",
       "         -8.24432541e-03,  3.23521812e-03,  7.07512861e-03, -9.92057752e-03,\n",
       "         -5.34958020e-03,  2.22109770e-03, -8.09178874e-03,  9.66158841e-05,\n",
       "         -9.57720354e-03, -8.24418094e-04,  7.54588004e-03, -3.79542401e-03,\n",
       "          1.45331817e-03, -1.57877000e-03, -9.87155642e-03,  8.53089150e-03,\n",
       "          1.71757664e-03,  2.18601152e-03, -4.15425887e-03, -7.81916920e-03,\n",
       "         -4.36123973e-03, -4.33157571e-03,  6.55372906e-03,  5.09087788e-03,\n",
       "          3.40153743e-03, -9.36174206e-03, -7.40563869e-03, -5.71801746e-03,\n",
       "         -3.48103233e-03,  2.91705393e-04, -8.19903333e-03,  7.45567912e-03,\n",
       "          1.84585736e-03,  3.19553120e-03,  5.67665277e-03,  1.01642637e-03,\n",
       "          7.12012267e-03,  2.54794979e-03,  7.18024233e-03, -7.50628673e-03,\n",
       "          9.24009888e-04,  3.87844583e-03, -8.05218425e-03, -6.95351604e-03,\n",
       "         -9.92728584e-03, -1.00606179e-03,  8.61035753e-03, -5.86841209e-03,\n",
       "          1.87779078e-03,  5.86935878e-03,  8.01269710e-03,  2.02863431e-03,\n",
       "          4.19978192e-03, -3.02852411e-03, -1.97382970e-03,  2.74170889e-03,\n",
       "         -9.31900553e-03, -5.03176544e-03, -3.56328720e-03, -2.52942415e-03,\n",
       "          9.50521696e-03,  3.67974676e-03, -2.55013187e-03,  8.21709540e-03,\n",
       "          1.37118768e-04, -8.28166213e-03,  4.39287396e-03, -5.94764482e-03,\n",
       "          4.56566690e-03,  9.49567091e-03,  8.23542662e-03,  6.73935236e-03,\n",
       "         -5.85339917e-03,  9.49845184e-03,  5.36625413e-03, -3.88380559e-03,\n",
       "          9.16313194e-03,  3.86568578e-03,  1.06444582e-03, -7.00312946e-03,\n",
       "         -2.51326850e-03,  4.03063139e-03,  9.75544937e-03, -7.10669113e-03,\n",
       "         -6.47027511e-03, -5.81965549e-03,  1.36518525e-03,  6.58664107e-03,\n",
       "         -7.99053255e-03, -6.45179953e-03, -9.17987619e-03,  3.37993423e-03,\n",
       "         -4.97920119e-05,  6.30679354e-03,  6.35348866e-03,  5.54342335e-03,\n",
       "         -3.58011830e-03,  5.53575624e-03,  7.13226572e-03,  1.96830370e-03,\n",
       "          2.09210650e-03, -8.96385871e-03,  1.59900042e-03,  9.44147259e-03,\n",
       "          6.57777721e-03, -2.65654898e-03, -9.58807021e-03, -4.22076089e-03,\n",
       "          8.21674708e-03,  9.14626103e-03, -6.65954873e-03,  8.69165454e-03,\n",
       "         -9.13497899e-03,  1.30660419e-05, -3.38579039e-03, -1.59911020e-03,\n",
       "          7.68397702e-04,  2.73176446e-03, -6.82265405e-03, -3.89323244e-03,\n",
       "          5.49249677e-03,  4.19756136e-04, -4.71969740e-03, -8.23340844e-03,\n",
       "         -7.36097293e-03, -2.25711637e-03,  8.67942534e-03, -2.92514008e-03,\n",
       "         -3.97114735e-03,  2.84822821e-03,  7.88293965e-03, -4.10685636e-04,\n",
       "         -1.55378971e-03,  9.98293422e-03,  8.07466358e-03,  5.45919687e-03,\n",
       "          1.43906684e-03,  2.62574572e-03, -4.02045064e-03, -9.55173559e-03,\n",
       "          3.58374114e-03,  9.52617917e-03,  6.60527265e-03,  5.57270041e-03,\n",
       "         -7.86066614e-03, -9.01021529e-03,  1.63508899e-04,  5.11135999e-03,\n",
       "         -8.31210613e-03,  8.44259374e-03, -6.36638934e-03,  2.53679999e-03,\n",
       "          7.45992269e-03,  8.64943676e-03, -9.50018223e-03,  2.25228444e-03,\n",
       "         -8.47043563e-03, -2.25266092e-03,  1.79441494e-03,  5.66119002e-03,\n",
       "          9.30544827e-03,  8.74596462e-03,  4.35650023e-03, -6.64193649e-03,\n",
       "         -9.93716880e-04,  4.96408483e-03, -7.34699052e-03, -7.16560800e-03,\n",
       "         -2.74648680e-03, -8.59511085e-03,  4.47315210e-03,  5.81212668e-03,\n",
       "         -8.74817371e-03, -4.49636346e-03,  6.30215136e-03, -4.79705073e-03,\n",
       "          9.75592341e-03, -8.66141822e-03,  5.02610393e-03,  7.50168180e-03,\n",
       "         -9.81241371e-03, -4.44232806e-04,  7.18611584e-04, -6.97623566e-03,\n",
       "         -5.98137127e-03, -4.61449521e-03, -2.91957916e-03, -3.28784040e-03,\n",
       "         -9.09977499e-03, -1.22996897e-03,  7.34875957e-03, -1.04712637e-03,\n",
       "          9.26515646e-03, -6.34503923e-03,  6.53279852e-03,  9.80089768e-04,\n",
       "         -9.07455198e-03,  1.83435157e-04, -3.81396664e-03,  1.09821011e-03,\n",
       "         -4.72982600e-03, -3.31072533e-03,  4.28451179e-03,  4.73062275e-04,\n",
       "          8.46769568e-03, -7.41502317e-03, -6.90837670e-03, -2.29154830e-03,\n",
       "         -7.20739877e-03, -2.15567648e-03, -3.65893729e-03,  9.66441073e-03,\n",
       "          2.53739674e-03,  2.42451741e-03,  6.10486977e-03,  6.81431207e-04,\n",
       "         -9.54387244e-03,  4.17079311e-03,  1.56475813e-03,  8.82805604e-03,\n",
       "         -9.71233938e-03,  7.40422541e-03, -5.14425104e-03, -1.23409240e-03,\n",
       "         -6.48284936e-03,  8.33728444e-03,  2.81766756e-03,  3.69414105e-03,\n",
       "         -9.91505664e-03, -3.04882089e-03, -2.48704688e-03,  6.58193137e-03,\n",
       "         -5.48553420e-03,  3.45556019e-03, -4.13330924e-03,  9.01207887e-03,\n",
       "         -8.75888113e-03,  8.15303624e-03,  4.85046208e-03, -5.85751049e-03,\n",
       "         -3.77761968e-03,  3.78436083e-03,  8.25802796e-03,  9.12783481e-03,\n",
       "          6.94689527e-03,  3.00485804e-03, -1.17165456e-03, -6.78043393e-03,\n",
       "         -6.00263337e-03, -6.79584499e-03, -3.89683014e-03, -4.58872551e-03,\n",
       "         -4.70611546e-03, -4.73140739e-03, -7.47266691e-03,  9.38914437e-03,\n",
       "          6.53519435e-03,  7.08184787e-04, -5.60201751e-03,  7.27003440e-04,\n",
       "         -4.64923854e-04, -8.66993330e-03, -9.93564725e-03, -3.00637493e-03,\n",
       "          3.39399162e-03, -9.14263725e-03, -7.95923173e-03, -4.40999959e-03,\n",
       "          5.58063900e-03,  7.01026525e-03, -2.87180999e-03,  9.80733056e-03,\n",
       "         -8.95133801e-03,  6.30756421e-03, -6.67273672e-03, -1.16604648e-03,\n",
       "         -4.42502263e-04,  1.84928329e-04, -3.72864702e-03,  3.00017942e-04,\n",
       "         -7.52974069e-03,  8.36513285e-03, -8.09590891e-03,  2.85150670e-03,\n",
       "          7.91289285e-03,  4.31624288e-03, -9.20415390e-03,  2.43546674e-03,\n",
       "         -4.45969123e-03,  4.44301032e-03,  1.13189348e-03,  7.99012929e-03,\n",
       "          6.11761957e-03, -8.57527461e-03, -2.58254679e-03,  4.47122054e-03,\n",
       "         -4.22666874e-03,  9.03447066e-03,  2.31782231e-03,  4.73532826e-03,\n",
       "          2.39950116e-03, -2.45834794e-03, -3.76998261e-03, -3.14829987e-03,\n",
       "          8.43662675e-03,  1.87037187e-03, -5.31408424e-03,  7.98008312e-03,\n",
       "          9.43435822e-03,  1.80062687e-03, -4.43203328e-03,  1.49198552e-03,\n",
       "          1.18859985e-03, -1.77476832e-04, -3.11650056e-03, -3.80187668e-03,\n",
       "         -5.43936249e-03,  8.27994477e-03, -7.53615517e-03,  1.07826585e-04,\n",
       "          3.66530055e-03,  1.61643384e-03,  6.70341169e-03, -1.76848925e-03,\n",
       "         -6.22856710e-03, -7.69430818e-03, -8.72450136e-03,  7.39631196e-03,\n",
       "          5.85264945e-03,  7.04868836e-03, -3.61374300e-03, -6.93840301e-03,\n",
       "          8.39644670e-03,  5.68148494e-03,  9.05127730e-03,  3.90569586e-03,\n",
       "         -6.10885769e-03, -1.92168925e-03, -5.13903610e-03, -8.50454345e-03,\n",
       "         -6.57849805e-03, -9.64705177e-05, -1.19283225e-03,  1.06399565e-03,\n",
       "          8.89683049e-03, -9.94696468e-03,  2.51266552e-04, -5.60951093e-03,\n",
       "         -6.36726327e-04, -7.70637766e-04,  8.28417018e-03,  9.87683609e-03,\n",
       "          2.31476338e-03, -6.20850269e-03,  7.29782553e-03, -5.76661620e-03,\n",
       "         -1.65815256e-03, -4.85733151e-03,  8.21475172e-04, -9.42247175e-03,\n",
       "         -3.91018903e-03,  6.63156155e-04,  5.63242147e-03, -6.41700171e-04,\n",
       "         -2.46560178e-03, -8.18633125e-04, -9.77717247e-03, -3.04071116e-03,\n",
       "          5.58063900e-03,  7.01026525e-03, -2.87180999e-03,  9.80733056e-03,\n",
       "         -8.95133801e-03,  6.30756421e-03, -6.67273672e-03, -1.16604648e-03,\n",
       "         -4.42502263e-04,  1.84928329e-04, -3.72864702e-03,  3.00017942e-04,\n",
       "         -7.52974069e-03,  8.36513285e-03, -8.09590891e-03,  2.85150670e-03,\n",
       "          7.91289285e-03,  4.31624288e-03, -9.20415390e-03,  2.43546674e-03,\n",
       "         -4.45969123e-03,  4.44301032e-03,  1.13189348e-03,  7.99012929e-03,\n",
       "          6.11761957e-03, -8.57527461e-03, -2.58254679e-03,  4.47122054e-03,\n",
       "         -4.22666874e-03,  9.03447066e-03,  2.31782231e-03,  4.73532826e-03,\n",
       "          2.39950116e-03, -2.45834794e-03, -3.76998261e-03, -3.14829987e-03,\n",
       "          8.43662675e-03,  1.87037187e-03, -5.31408424e-03,  7.98008312e-03,\n",
       "          9.43435822e-03,  1.80062687e-03, -4.43203328e-03,  1.49198552e-03,\n",
       "          1.18859985e-03, -1.77476832e-04, -3.11650056e-03, -3.80187668e-03,\n",
       "         -5.43936249e-03,  8.27994477e-03,  2.65957322e-03,  1.65684102e-03,\n",
       "         -9.53250751e-03,  7.08081992e-04, -3.60211567e-03, -8.50787107e-03,\n",
       "          3.29141389e-03, -7.16070225e-03,  7.46108033e-03,  4.70625283e-03,\n",
       "          4.74687573e-03,  2.54502962e-03, -6.05770445e-04, -2.54120212e-03,\n",
       "          6.95818244e-03,  5.72173670e-03,  2.92203669e-03,  5.68623049e-03,\n",
       "          6.69994019e-03,  2.34499667e-03,  5.30667603e-06,  6.08868082e-04,\n",
       "         -4.19671834e-03,  1.60874578e-03, -5.01990272e-03, -4.05341061e-03,\n",
       "          7.57379504e-03,  8.78338050e-03, -4.25203796e-03, -4.31757071e-04,\n",
       "         -8.69133044e-03,  8.55374150e-04, -8.78473651e-03, -6.81504171e-05,\n",
       "         -4.27210983e-03,  7.57850567e-03, -8.72772932e-03, -7.75819225e-03,\n",
       "         -9.35100298e-03,  3.31867905e-03,  5.56140160e-03,  4.23516030e-04,\n",
       "         -4.64110076e-03,  5.79645671e-03, -2.67327065e-03,  1.25519128e-03,\n",
       "         -1.21689483e-03,  8.36333539e-03,  7.00186659e-03,  9.54739843e-03,\n",
       "         -1.38051610e-03,  8.94427020e-03,  6.35724980e-04, -1.95702328e-03,\n",
       "          2.85970489e-03, -5.59569476e-03,  7.17151817e-03,  7.19268527e-03,\n",
       "          3.87046370e-03, -6.85945200e-03,  8.08517169e-03,  8.98100529e-03,\n",
       "          6.96538715e-04,  6.03169948e-03, -1.60950283e-03,  6.17077667e-03,\n",
       "          1.58185873e-03, -9.89827607e-03, -7.97169097e-03, -8.46020970e-03,\n",
       "          1.73711043e-03,  3.73038300e-03, -7.40432320e-03,  3.78538063e-03,\n",
       "          1.54117483e-03,  9.55046248e-03, -3.65871005e-04,  5.55778574e-03,\n",
       "         -4.74997191e-03, -9.82333161e-03, -1.11435552e-03,  2.42462917e-03,\n",
       "          9.39862989e-03, -9.86004435e-03, -7.77771091e-03, -6.37603877e-03,\n",
       "         -5.76416403e-03,  4.79286723e-03,  6.34262245e-03, -7.62747880e-03,\n",
       "          1.57765287e-03, -7.06089288e-03,  1.00055393e-02,  1.66307704e-03,\n",
       "          7.78622041e-03,  1.15491229e-03, -1.47974599e-04,  6.20096503e-03,\n",
       "          5.95972454e-03,  6.22393424e-03,  4.21728520e-03, -7.32343178e-03,\n",
       "          2.52964697e-03,  5.97772282e-03, -9.09195095e-03,  2.64525623e-03,\n",
       "         -3.29236081e-03, -8.72227270e-03,  2.45276047e-03, -5.78445010e-03,\n",
       "          9.51571018e-03, -9.97818820e-03,  1.73098117e-03,  9.66413692e-03,\n",
       "         -4.95530106e-03, -4.61175991e-03,  8.39925744e-03,  1.82887737e-03,\n",
       "          1.65712775e-03, -7.91820872e-04,  4.20275331e-03, -5.67668909e-03,\n",
       "          2.66547943e-03, -8.71005561e-03, -7.02242274e-03,  7.91615807e-03,\n",
       "         -3.24929808e-03, -6.25983626e-03,  6.21002400e-05, -3.61114228e-03,\n",
       "          2.36893049e-03, -2.56968546e-03,  8.90340190e-03,  7.41114328e-03,\n",
       "          9.24712047e-03, -7.47251417e-03, -1.31651550e-03,  9.94442217e-03,\n",
       "         -2.10512872e-03,  4.50312812e-03, -7.80720671e-04, -5.03449887e-03,\n",
       "          2.88938917e-03, -7.20843673e-03, -2.63632578e-03,  7.55023817e-03,\n",
       "          1.62624498e-03, -5.25266537e-03,  2.31849699e-05, -3.67502542e-03,\n",
       "         -2.44233874e-03, -4.53600567e-03, -2.84424773e-03,  1.99115416e-03,\n",
       "         -9.14423075e-03,  6.31924998e-03,  5.78110851e-03, -9.74271912e-03,\n",
       "          8.63396097e-03, -8.40357691e-03,  2.24229950e-03,  9.77952126e-03,\n",
       "          8.77028983e-03,  1.58240600e-03, -7.22869439e-03, -2.39909720e-03,\n",
       "         -7.10193114e-03,  8.95608310e-03,  8.39065015e-03, -2.03306344e-03,\n",
       "          1.74653996e-03,  5.83534734e-03, -7.05340784e-03,  4.47571790e-03,\n",
       "          1.36241887e-03, -1.76522415e-03, -1.96435861e-03,  2.03949190e-03,\n",
       "          6.29885308e-03,  9.10191890e-03, -7.29120942e-03, -7.05324765e-03,\n",
       "         -7.52434309e-04,  7.38732843e-03, -6.26425585e-03, -2.05814512e-03,\n",
       "          6.76988298e-03,  7.10606761e-03,  9.70963296e-03, -9.00940597e-03,\n",
       "         -4.63253725e-03,  2.31705629e-03,  1.68047100e-03,  6.68766815e-03,\n",
       "         -4.70503001e-03,  4.04117024e-03, -4.10150550e-03, -8.57305434e-03,\n",
       "          5.65646077e-03,  1.13130047e-03,  5.25300973e-04,  5.22729242e-03,\n",
       "          9.36064776e-03,  5.93259605e-03,  2.92958622e-03,  1.97618897e-03,\n",
       "          8.71565007e-03,  6.79346360e-03,  9.57160816e-03, -2.46875058e-03,\n",
       "         -6.67332904e-03,  7.25459913e-03, -8.20517773e-04,  4.17914661e-03,\n",
       "          9.05063469e-03, -2.70328694e-03, -8.39953311e-03, -1.02882262e-03,\n",
       "         -7.33182020e-03, -6.65621413e-03,  4.50466061e-03,  1.06965960e-03,\n",
       "          1.29837578e-03, -3.99081502e-03, -8.06488562e-03, -2.86981533e-03,\n",
       "         -7.32756453e-03,  5.77754853e-03,  8.39282572e-03,  2.44368170e-03,\n",
       "         -6.01702923e-05,  5.63233066e-03,  6.17812807e-03, -5.75627107e-03,\n",
       "          3.39019927e-03,  3.00434092e-03, -1.88419464e-04, -6.06063474e-03,\n",
       "         -5.41569153e-03,  3.81396990e-03, -1.46226597e-03, -3.11179692e-03,\n",
       "          9.57729574e-03,  5.85723436e-03,  3.22765880e-03,  5.43423276e-03,\n",
       "          5.73477149e-03,  4.01198072e-03,  8.15377757e-03,  4.80896467e-03],\n",
       "        dtype=float32))]"
      ]
     },
     "execution_count": 190,
     "metadata": {},
     "output_type": "execute_result"
    }
   ],
   "source": [
    "sent_vect_lookup"
   ]
  },
  {
   "cell_type": "code",
   "execution_count": 194,
   "metadata": {},
   "outputs": [
    {
     "data": {
      "text/plain": [
       "4"
      ]
     },
     "execution_count": 194,
     "metadata": {},
     "output_type": "execute_result"
    }
   ],
   "source": [
    "len(vector_list)"
   ]
  },
  {
   "cell_type": "markdown",
   "metadata": {
    "slideshow": {
     "slide_type": "slide"
    }
   },
   "source": [
    "## Now that we have defined each sentence in the vector space , we can perform clustering to bundle together sentences with similar meaning."
   ]
  },
  {
   "cell_type": "code",
   "execution_count": 202,
   "metadata": {},
   "outputs": [],
   "source": [
    "kmeans = MiniBatchKMeans(n_clusters = 3,batch_size=2,random_state=0).fit(vector_list)"
   ]
  },
  {
   "cell_type": "code",
   "execution_count": 203,
   "metadata": {},
   "outputs": [
    {
     "data": {
      "text/plain": [
       "array([[-2.43254052e-03, -2.47512409e-03, -1.46022392e-03, ...,\n",
       "         4.01198072e-03,  8.15377757e-03,  4.80896467e-03],\n",
       "       [-8.59446968e-03, -1.56994230e-04,  3.37173619e-04, ...,\n",
       "         4.91222879e-03,  9.89921950e-03,  6.21454930e-03],\n",
       "       [ 6.63064793e-03,  4.31383215e-03,  5.71671594e-03, ...,\n",
       "         2.05988227e-03, -6.99817017e-03,  3.60230479e-05]])"
      ]
     },
     "execution_count": 203,
     "metadata": {},
     "output_type": "execute_result"
    }
   ],
   "source": [
    "centroids = kmeans.cluster_centers_\n",
    "centroids"
   ]
  },
  {
   "cell_type": "markdown",
   "metadata": {
    "slideshow": {
     "slide_type": "slide"
    }
   },
   "source": [
    "## Clustering the query results for the word \"feature\""
   ]
  },
  {
   "cell_type": "code",
   "execution_count": 204,
   "metadata": {
    "slideshow": {
     "slide_type": "subslide"
    }
   },
   "outputs": [
    {
     "data": {
      "image/png": "[encoded data removed]",
      "text/plain": [
       "<Figure size 432x288 with 1 Axes>"
      ]
     },
     "metadata": {
      "needs_background": "light"
     },
     "output_type": "display_data"
    }
   ],
   "source": [
    "import matplotlib.pyplot as plt\n",
    "plt.scatter(kmeans.cluster_centers_[:, 0], kmeans.cluster_centers_[:, 1], s=300, c='yellow', label = 'Centroids')\n",
    "plt.title('Clusters of Sentences acc to word meaning')\n",
    "plt.show()"
   ]
  },
  {
   "cell_type": "markdown",
   "metadata": {
    "slideshow": {
     "slide_type": "subslide"
    }
   },
   "source": [
    "## Cluster assignment of sentences\n",
    "\n",
    "![clustering](Images/clustering.png)"
   ]
  },
  {
   "cell_type": "code",
   "execution_count": 211,
   "metadata": {
    "slideshow": {
     "slide_type": "subslide"
    }
   },
   "outputs": [
    {
     "name": "stdout",
     "output_type": "stream",
     "text": [
      "['ingspan', 'of', 'a', 'condor', '?', 'DESC', ':', 'desc', 'What', 'facial', 'feature', 'typically', 'contains', 'about', '55', 'hairs', '?', 'HUM', ':', 'ind']\n",
      "****\n",
      "['an', 'hand', '?', 'HUM', ':', 'gr', 'What', 'bread', 'company', 'used', 'to', 'feature', 'stickers', 'of', 'the', 'Cisco', 'Kid', 'on', 'the', 'ends', 'of', 'thei']\n",
      "****\n",
      "['fireplug', 'come', 'from', '?', 'DESC', ':', 'desc', 'What', 'facial', 'feature', 'did', 'Walt', 'Disney', 'sport', 'that', 'none', 'of', 'Disney', \"'\", 's']\n",
      "****\n",
      "['ca', 'and', 'Asia', '?', 'ENTY', ':', 'sport', 'What', 'card', 'game', 'can', 'feature', 'dealer', \"'\", 's', 'choice', '?', 'NUM', ':', 'count', 'How', 'many', 'Amer']\n",
      "****\n",
      "--------------------\n",
      "predicted labels\n",
      "--------------------\n",
      "[1 2 1 0]\n"
     ]
    }
   ],
   "source": [
    "for sent in feature_results:\n",
    "    print(sent)\n",
    "    print('****')\n",
    "print('-' * 20)\n",
    "print('predicted labels')\n",
    "print('-' * 20)\n",
    "print(kmeans.labels_)"
   ]
  },
  {
   "cell_type": "markdown",
   "metadata": {
    "slideshow": {
     "slide_type": "slide"
    }
   },
   "source": [
    "## Picking representative samples from each cluster to diversify context of concordance output\n",
    "\n",
    "![diverse](Images/diversifed_concordance.png)"
   ]
  },
  {
   "cell_type": "code",
   "execution_count": 218,
   "metadata": {
    "slideshow": {
     "slide_type": "subslide"
    }
   },
   "outputs": [
    {
     "name": "stdout",
     "output_type": "stream",
     "text": [
      "['ingspan', 'of', 'a', 'condor', '?', 'DESC', ':', 'desc', 'What', 'facial', 'feature', 'typically', 'contains', 'about', '55', 'hairs', '?', 'HUM', ':', 'ind']\n",
      "__________________________________________________\n",
      "['an', 'hand', '?', 'HUM', ':', 'gr', 'What', 'bread', 'company', 'used', 'to', 'feature', 'stickers', 'of', 'the', 'Cisco', 'Kid', 'on', 'the', 'ends', 'of', 'thei']\n",
      "__________________________________________________\n",
      "['ca', 'and', 'Asia', '?', 'ENTY', ':', 'sport', 'What', 'card', 'game', 'can', 'feature', 'dealer', \"'\", 's', 'choice', '?', 'NUM', ':', 'count', 'How', 'many', 'Amer']\n",
      "__________________________________________________\n"
     ]
    }
   ],
   "source": [
    "captured_class = set()\n",
    "new_result = []\n",
    "for index in range(len(feature_results)):\n",
    "    if kmeans.labels_[index] not in captured_class:\n",
    "        new_result.append(feature_results[index])\n",
    "        captured_class.add(kmeans.labels_[index])\n",
    "\n",
    "for sent in new_result:\n",
    "    print(sent)\n",
    "    print('_' * 50)"
   ]
  },
  {
   "cell_type": "markdown",
   "metadata": {
    "slideshow": {
     "slide_type": "slide"
    }
   },
   "source": [
    "# <span style = \"color:green\">STAGE 3</span>\n",
    "\n",
    "## FINAL DELIVERABLES"
   ]
  },
  {
   "cell_type": "markdown",
   "metadata": {
    "slideshow": {
     "slide_type": "subslide"
    }
   },
   "source": [
    "- The final deliverable for this project is a python 3 package that can help explore concordances of any user defined corpus.\n",
    "\n",
    "- Graphical User Interface\n",
    "\n",
    "The inspiration for GUI comes from the current open source concordancers in use.\n",
    "\n",
    "![ant_conc](Images/ant_conc.png)\n"
   ]
  },
  {
   "cell_type": "markdown",
   "metadata": {
    "slideshow": {
     "slide_type": "subslide"
    }
   },
   "source": [
    "![casualconc](Images/casualconc.png)"
   ]
  },
  {
   "cell_type": "markdown",
   "metadata": {
    "slideshow": {
     "slide_type": "slide"
    }
   },
   "source": [
    "# Thank you!"
   ]
  }
 ],
 "metadata": {
  "celltoolbar": "Slideshow",
  "kernelspec": {
   "display_name": "Python 3",
   "language": "python",
   "name": "python3"
  },
  "language_info": {
   "codemirror_mode": {
    "name": "ipython",
    "version": 3
   },
   "file_extension": ".py",
   "mimetype": "text/x-python",
   "name": "python",
   "nbconvert_exporter": "python",
   "pygments_lexer": "ipython3",
   "version": "3.6.9"
  }
 },
 "nbformat": 4,
 "nbformat_minor": 4
}
